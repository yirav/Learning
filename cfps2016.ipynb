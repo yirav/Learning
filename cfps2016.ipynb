{
 "cells": [
  {
   "cell_type": "code",
   "execution_count": 2,
   "metadata": {},
   "outputs": [],
   "source": [
    "import pandas as pd\n",
    "import numpy as np\n",
    "from matplotlib import pyplot as plt"
   ]
  },
  {
   "cell_type": "markdown",
   "metadata": {},
   "source": [
    "# CFPS2016"
   ]
  },
  {
   "cell_type": "code",
   "execution_count": 91,
   "metadata": {},
   "outputs": [],
   "source": [
    "# 成人问卷\n",
    "df1=pd.read_sas('CFPS2016/cfps2016adult_201906.sas7bdat')\n",
    "df1['pid']=df1['pid'].astype(int)\n",
    "# 家庭成员关系\n",
    "# 需要从中识别父亲编号pid_f，再去成人问卷中匹配父亲pid\n",
    "df2=pd.read_sas('CFPS2016/cfps2016famconf_201804.sas7bdat')\n",
    "df2[['pid','pid_f']]=df2[['pid','pid_f']].astype(int)\n",
    "# 家庭问卷\n",
    "# df3=pd.read_sas('CFPS2016/cfps2016famecon_201807.sas7bdat')\n",
    "# 2016跨年数据库:2016中好像没有需要用的数据\n",
    "# df4=pd.read_sas('CFPS2016/cfps2016crossyearid_201807.sas7bdat')"
   ]
  },
  {
   "cell_type": "code",
   "execution_count": 92,
   "metadata": {},
   "outputs": [],
   "source": [
    "# describe后发现id有为负数的，视作异常样本\n",
    "# df1剔除id不在区间范围的记录\n",
    "# 删除4条\n",
    "out_df1=np.where((df1.pid<100051501)|(df1.pid>2489151502))[0]\n",
    "df1.drop(out_df1,inplace=True)\n",
    "df1.reset_index(drop=True,inplace=True)\n",
    "# df2剔除pid_f等于-8和77的样本的记录\n",
    "# 删除32844\n",
    "out_df2=np.where((df2.pid<100051501)|(df2.pid>2845312554))[0] # 查看后没有记录\n",
    "index1=np.where((df2.pid_f==-8)|(df2.pid_f==77))[0]\n",
    "df2_1=df2.drop(list(out_df2)+list(index1))\n",
    "df2_1.reset_index(drop=True,inplace=True)\n",
    "# 筛选所需变量\n",
    "df2_2=df2_1[['pid','pid_f','TB4_a16_p','TB4_a16_f']] # 添加了最高学历\n",
    "\n",
    "# 进行从个人库中匹配子代的相关信息\n",
    "# 成人库中选取相关变量\n",
    "'''\n",
    "pa301：现在的户口状况\n",
    "school：上学状态\n",
    "employ：当前工作状态\n",
    "qn4001：是否党员\n",
    "QG303CODE_ISEI：职业isei\n",
    "QP201：健康状况\n",
    "cfps2016eduy：受教育年限\n",
    "cfps2016eduy_im：受教育年限插补\n",
    "incomeb：主要工作收入\n",
    "incomea：一般工作收入\n",
    "income：总收入\n",
    "'''\n",
    "df1_1=df1[['pid','provcd16','urban16','CFPS_AGE','CFPS_GENDER','PA301',\n",
    "          'SCHOOL','EMPLOY','QN4001','QP201','cfps2016eduy',\n",
    "           'cfps2016eduy_im', 'cfps2016edu','INCOMEB','INCOMEA','INCOME','incomeb_imp']]\n",
    "# 从家庭问卷库中筛选一些资产变量\n",
    "# 注意房产的单位是万元\n",
    "# df3_1=df3[['fid16','FR1','FR101','FS6V','FS8','FP510','durables_asset','finance_asset','nonhousing_debts',\n",
    "#           'land_asset','resivalue']]"
   ]
  },
  {
   "cell_type": "code",
   "execution_count": 93,
   "metadata": {},
   "outputs": [
    {
     "data": {
      "text/html": [
       "<div>\n",
       "<style scoped>\n",
       "    .dataframe tbody tr th:only-of-type {\n",
       "        vertical-align: middle;\n",
       "    }\n",
       "\n",
       "    .dataframe tbody tr th {\n",
       "        vertical-align: top;\n",
       "    }\n",
       "\n",
       "    .dataframe thead th {\n",
       "        text-align: right;\n",
       "    }\n",
       "</style>\n",
       "<table border=\"1\" class=\"dataframe\">\n",
       "  <thead>\n",
       "    <tr style=\"text-align: right;\">\n",
       "      <th></th>\n",
       "      <th>pid_p</th>\n",
       "      <th>provcd16_p</th>\n",
       "      <th>urban16_p</th>\n",
       "      <th>cfps_age_p</th>\n",
       "      <th>cfps_gender_p</th>\n",
       "      <th>pa301_p</th>\n",
       "      <th>school_p</th>\n",
       "      <th>employ_p</th>\n",
       "      <th>qn4001_p</th>\n",
       "      <th>qp201_p</th>\n",
       "      <th>...</th>\n",
       "      <th>employ_f</th>\n",
       "      <th>qn4001_f</th>\n",
       "      <th>qp201_f</th>\n",
       "      <th>cfps2016eduy_f</th>\n",
       "      <th>cfps2016eduy_im_f</th>\n",
       "      <th>cfps2016edu_f</th>\n",
       "      <th>incomeb_f</th>\n",
       "      <th>incomea_f</th>\n",
       "      <th>income_f</th>\n",
       "      <th>incomeb_imp_f</th>\n",
       "    </tr>\n",
       "  </thead>\n",
       "  <tbody>\n",
       "    <tr>\n",
       "      <th>0</th>\n",
       "      <td>108660552</td>\n",
       "      <td>41.0</td>\n",
       "      <td>1.0</td>\n",
       "      <td>43.0</td>\n",
       "      <td>1.0</td>\n",
       "      <td>1.0</td>\n",
       "      <td>0.0</td>\n",
       "      <td>1.0</td>\n",
       "      <td>0.0</td>\n",
       "      <td>3.0</td>\n",
       "      <td>...</td>\n",
       "      <td>NaN</td>\n",
       "      <td>1.0</td>\n",
       "      <td>3.0</td>\n",
       "      <td>0.0</td>\n",
       "      <td>0.0</td>\n",
       "      <td>1.0</td>\n",
       "      <td>-8.0</td>\n",
       "      <td>NaN</td>\n",
       "      <td>-8.0</td>\n",
       "      <td>-8.0</td>\n",
       "    </tr>\n",
       "    <tr>\n",
       "      <th>1</th>\n",
       "      <td>109137501</td>\n",
       "      <td>41.0</td>\n",
       "      <td>1.0</td>\n",
       "      <td>31.0</td>\n",
       "      <td>1.0</td>\n",
       "      <td>3.0</td>\n",
       "      <td>0.0</td>\n",
       "      <td>1.0</td>\n",
       "      <td>0.0</td>\n",
       "      <td>3.0</td>\n",
       "      <td>...</td>\n",
       "      <td>1.0</td>\n",
       "      <td>0.0</td>\n",
       "      <td>3.0</td>\n",
       "      <td>12.0</td>\n",
       "      <td>12.0</td>\n",
       "      <td>4.0</td>\n",
       "      <td>-8.0</td>\n",
       "      <td>0.0</td>\n",
       "      <td>-8.0</td>\n",
       "      <td>39297.0</td>\n",
       "    </tr>\n",
       "    <tr>\n",
       "      <th>2</th>\n",
       "      <td>110003103</td>\n",
       "      <td>11.0</td>\n",
       "      <td>1.0</td>\n",
       "      <td>19.0</td>\n",
       "      <td>0.0</td>\n",
       "      <td>1.0</td>\n",
       "      <td>5.0</td>\n",
       "      <td>1.0</td>\n",
       "      <td>0.0</td>\n",
       "      <td>2.0</td>\n",
       "      <td>...</td>\n",
       "      <td>1.0</td>\n",
       "      <td>0.0</td>\n",
       "      <td>3.0</td>\n",
       "      <td>12.0</td>\n",
       "      <td>12.0</td>\n",
       "      <td>4.0</td>\n",
       "      <td>-8.0</td>\n",
       "      <td>0.0</td>\n",
       "      <td>-8.0</td>\n",
       "      <td>NaN</td>\n",
       "    </tr>\n",
       "    <tr>\n",
       "      <th>3</th>\n",
       "      <td>110006103</td>\n",
       "      <td>11.0</td>\n",
       "      <td>1.0</td>\n",
       "      <td>26.0</td>\n",
       "      <td>0.0</td>\n",
       "      <td>3.0</td>\n",
       "      <td>0.0</td>\n",
       "      <td>3.0</td>\n",
       "      <td>0.0</td>\n",
       "      <td>3.0</td>\n",
       "      <td>...</td>\n",
       "      <td>1.0</td>\n",
       "      <td>1.0</td>\n",
       "      <td>3.0</td>\n",
       "      <td>11.0</td>\n",
       "      <td>11.0</td>\n",
       "      <td>3.0</td>\n",
       "      <td>-8.0</td>\n",
       "      <td>0.0</td>\n",
       "      <td>-8.0</td>\n",
       "      <td>48290.0</td>\n",
       "    </tr>\n",
       "    <tr>\n",
       "      <th>4</th>\n",
       "      <td>110009107</td>\n",
       "      <td>11.0</td>\n",
       "      <td>1.0</td>\n",
       "      <td>28.0</td>\n",
       "      <td>1.0</td>\n",
       "      <td>3.0</td>\n",
       "      <td>0.0</td>\n",
       "      <td>1.0</td>\n",
       "      <td>0.0</td>\n",
       "      <td>3.0</td>\n",
       "      <td>...</td>\n",
       "      <td>3.0</td>\n",
       "      <td>0.0</td>\n",
       "      <td>5.0</td>\n",
       "      <td>NaN</td>\n",
       "      <td>6.0</td>\n",
       "      <td>1.0</td>\n",
       "      <td>-8.0</td>\n",
       "      <td>-8.0</td>\n",
       "      <td>-8.0</td>\n",
       "      <td>-8.0</td>\n",
       "    </tr>\n",
       "  </tbody>\n",
       "</table>\n",
       "<p>5 rows × 36 columns</p>\n",
       "</div>"
      ],
      "text/plain": [
       "       pid_p  provcd16_p  urban16_p  cfps_age_p  cfps_gender_p  pa301_p  \\\n",
       "0  108660552        41.0        1.0        43.0            1.0      1.0   \n",
       "1  109137501        41.0        1.0        31.0            1.0      3.0   \n",
       "2  110003103        11.0        1.0        19.0            0.0      1.0   \n",
       "3  110006103        11.0        1.0        26.0            0.0      3.0   \n",
       "4  110009107        11.0        1.0        28.0            1.0      3.0   \n",
       "\n",
       "   school_p  employ_p  qn4001_p  qp201_p  ...  employ_f  qn4001_f  qp201_f  \\\n",
       "0       0.0       1.0       0.0      3.0  ...       NaN       1.0      3.0   \n",
       "1       0.0       1.0       0.0      3.0  ...       1.0       0.0      3.0   \n",
       "2       5.0       1.0       0.0      2.0  ...       1.0       0.0      3.0   \n",
       "3       0.0       3.0       0.0      3.0  ...       1.0       1.0      3.0   \n",
       "4       0.0       1.0       0.0      3.0  ...       3.0       0.0      5.0   \n",
       "\n",
       "   cfps2016eduy_f  cfps2016eduy_im_f  cfps2016edu_f  incomeb_f  incomea_f  \\\n",
       "0             0.0                0.0            1.0       -8.0        NaN   \n",
       "1            12.0               12.0            4.0       -8.0        0.0   \n",
       "2            12.0               12.0            4.0       -8.0        0.0   \n",
       "3            11.0               11.0            3.0       -8.0        0.0   \n",
       "4             NaN                6.0            1.0       -8.0       -8.0   \n",
       "\n",
       "   income_f  incomeb_imp_f  \n",
       "0      -8.0           -8.0  \n",
       "1      -8.0        39297.0  \n",
       "2      -8.0            NaN  \n",
       "3      -8.0        48290.0  \n",
       "4      -8.0           -8.0  \n",
       "\n",
       "[5 rows x 36 columns]"
      ]
     },
     "execution_count": 93,
     "metadata": {},
     "output_type": "execute_result"
    }
   ],
   "source": [
    "# 数据匹配，需要匹配两次，分别获取个人详细信息和父亲详细信息\n",
    "# 获取个人信息\n",
    "merge1=pd.merge(df1_1,df2_2,on='pid')\n",
    "merge1.rename(columns={'pid_f':'fpid'},inplace=True)# 避免merge产生重复列\n",
    "# 获取父亲信息\n",
    "merge2=pd.merge(merge1,df1_1,left_on='fpid',right_on='pid',suffixes=['_p','_f'])\n",
    "merge2.drop(['fpid'],axis=1,inplace=True)\n",
    "# merge3=pd.merge(merge2,df3_1,left_on='fid16_p',right_on='fid16')\n",
    "# 将列名全改为小写，方便后续操作\n",
    "# 还是暂时用merge2吧\n",
    "for x in merge2.columns.values:\n",
    "    merge2.rename(columns={x:x.lower()},inplace=True)\n",
    "merge2.head()#匹配了9317"
   ]
  },
  {
   "cell_type": "code",
   "execution_count": 94,
   "metadata": {},
   "outputs": [
    {
     "data": {
      "text/plain": [
       "9557"
      ]
     },
     "execution_count": 94,
     "metadata": {},
     "output_type": "execute_result"
    }
   ],
   "source": [
    "len(merge2)"
   ]
  },
  {
   "cell_type": "code",
   "execution_count": 95,
   "metadata": {
    "scrolled": false
   },
   "outputs": [],
   "source": [
    "# 筛选子辈年龄16-45,父辈年龄36-65,父子年龄差小于16(异常样本) 暂定这个范围\n",
    "res1=merge2\n",
    "index2=np.where((res1.cfps_age_p<16)|(res1.cfps_age_p>45))[0]\n",
    "index3=np.where((res1.cfps_age_f<36)|(res1.cfps_age_f>65))[0]\n",
    "# index2=np.where((res1.cfps_age_p<16))[0]\n",
    "# index3=np.where((res1.cfps_age_f>65))[0]\n",
    "res1['age_dif']=res1['cfps_age_f']-res1['cfps_age_p']\n",
    "index4=np.where(res1['age_dif']<10)[0]\n",
    "res2=res1.drop(list(index2)+list(index3)+list(index4))\n",
    "# 剩余7862\n",
    "res2.reset_index(drop=True,inplace=True)"
   ]
  },
  {
   "cell_type": "code",
   "execution_count": 96,
   "metadata": {},
   "outputs": [
    {
     "data": {
      "text/plain": [
       "7858"
      ]
     },
     "execution_count": 96,
     "metadata": {},
     "output_type": "execute_result"
    }
   ],
   "source": [
    "len(res2)"
   ]
  },
  {
   "cell_type": "code",
   "execution_count": 97,
   "metadata": {},
   "outputs": [],
   "source": [
    "# 筛选已离开学校，且有工作的样本school=0,employ=1，不要在职学生的数据（数据量比较小，且收入误差可能较大）\n",
    "# school employ\n",
    "# 注意需要用& |,用and,or会报错,&的优先级比==高,\n",
    "index5=np.where((res2.school_p==0) & (res2.employ_p==1))[0]\n",
    "# 先不管当前工作状态，因为可能只是暂时失业\n",
    "# index5=np.where(res2.school_p==0)[0]\n",
    "res3=res2.loc[index5,:]\n",
    "# 剩余4322\n",
    "res3.reset_index(drop=True,inplace=True)"
   ]
  },
  {
   "cell_type": "code",
   "execution_count": 98,
   "metadata": {},
   "outputs": [
    {
     "data": {
      "text/plain": [
       "4322"
      ]
     },
     "execution_count": 98,
     "metadata": {},
     "output_type": "execute_result"
    }
   ],
   "source": [
    "len(res3)"
   ]
  },
  {
   "cell_type": "code",
   "execution_count": 99,
   "metadata": {},
   "outputs": [],
   "source": [
    "# 由于操作不当，2014-2016两次调查间主要工作未发生变动的人群的主要工作数据未采集成功，通过模型进行了插补\n",
    "# 如果主要工作收入incomeb=-8缺失，需要看是否有incomeb_imp\n",
    "# 考虑使用总收入income，因为有些一般工作收入incomea>incomeb，需要全面考虑,income=incomea+incomeb\n",
    "# 计算前先剔除incomea=-9（缺失）,incomea=-8时取0，income=incomeb\n",
    "res3['incomeb_adj_p']=res3.apply(lambda x:x['incomeb_imp_p'] if x['incomeb_p']==-8 else x['incomeb_p'],axis=1)\n",
    "res3['incomeb_adj_f']=res3.apply(lambda x:x['incomeb_imp_f'] if x['incomeb_f']==-8 else x['incomeb_f'],axis=1)\n",
    "res3.drop(['incomeb_p','incomeb_f'],axis=1,inplace=True)\n",
    "res3.rename(columns={'incomeb_adj_p':'incomeb_p','incomeb_adj_f':'incomeb_f'},inplace=True)\n",
    "res3.reset_index(drop=True,inplace=True)\n",
    "index6=np.where((res3.incomea_p==-9)|(res3.incomea_f==-9))[0]\n",
    "res3.drop(index6,inplace=True)\n",
    "res3.reset_index(drop=True,inplace=True)\n",
    "res3['income_p']=res3.apply(lambda x:x['incomea_p']+x['incomeb_p'] if x['incomea_p']!=-8 else x['incomeb_p'],axis=1)\n",
    "res3['income_f']=res3.apply(lambda x:x['incomea_f']+x['incomeb_f'] if x['incomea_f']!=-8 else x['incomeb_f'],axis=1)"
   ]
  },
  {
   "cell_type": "code",
   "execution_count": 100,
   "metadata": {},
   "outputs": [],
   "source": [
    "# 剔除收入为空，或为-8,0的样本数据，以income为标准\n",
    "res4=res3.dropna(subset=['income_p','income_f']).reset_index(drop=True) # 剔除缺失值\n",
    "index7=np.where((res4['income_p'].isin([-8,0]))|(res4['income_f'].isin([-8,0])))[0] # 剔除收入不适用和为0的数据\n",
    "res5=res4.drop(index7) # 剩1155\n",
    "res5.reset_index(drop=True,inplace=True)"
   ]
  },
  {
   "cell_type": "code",
   "execution_count": 101,
   "metadata": {},
   "outputs": [],
   "source": [
    "def eduy(x):\n",
    "    if x==1:\n",
    "        return 0\n",
    "    elif x==2:\n",
    "        return 6\n",
    "    elif x==3:\n",
    "        return 9\n",
    "    elif x==4:\n",
    "        return 12\n",
    "    elif x==5:\n",
    "        return 15\n",
    "    elif x==6:\n",
    "        return 16\n",
    "    elif x==7:\n",
    "        return 19\n",
    "    elif x==8:\n",
    "        return 22"
   ]
  },
  {
   "cell_type": "code",
   "execution_count": 102,
   "metadata": {},
   "outputs": [],
   "source": [
    "# 查看学历是否需要插补\n",
    "# 若教育年限缺失，看是否能用插补值；若最高学历缺失，考虑用最近一次调查的最高学历\n",
    "# 注意插补后有为-8和空的，后续记得剔除\n",
    "res6=res5.copy()\n",
    "res6['cfps2016eduy_p']=res6.apply(lambda x:x['cfps2016eduy_im_p'] if np.isnan(x['cfps2016eduy_p']) else x['cfps2016eduy_p'],axis=1)\n",
    "res6['cfps2016eduy_f']=res6.apply(lambda x:x['cfps2016eduy_im_f'] if np.isnan(x['cfps2016eduy_f']) else x['cfps2016eduy_f'],axis=1)\n",
    "res6['cfps2016edu_p']=res6.apply(lambda x:x['tb4_a16_p'] if np.isnan(x['cfps2016edu_p']) else x['cfps2016edu_p'],axis=1)\n",
    "res6['cfps2016edu_f']=res6.apply(lambda x:x['tb4_a16_f'] if np.isnan(x['cfps2016edu_f']) else x['cfps2016edu_f'],axis=1)\n",
    "res6['cfps2016eduy_p']=res6.apply(lambda x:eduy(x['cfps2016edu_p']) if np.isnan(x['cfps2016eduy_p']) else x['cfps2016eduy_p'],axis=1)\n",
    "res6['cfps2016eduy_f']=res6.apply(lambda x:eduy(x['cfps2016edu_f']) if np.isnan(x['cfps2016eduy_f']) else x['cfps2016eduy_f'],axis=1)\n",
    "res6.drop(['cfps2016eduy_im_p','cfps2016eduy_im_f'],axis=1,inplace=True)"
   ]
  },
  {
   "cell_type": "code",
   "execution_count": 103,
   "metadata": {},
   "outputs": [
    {
     "data": {
      "text/html": [
       "<div>\n",
       "<style scoped>\n",
       "    .dataframe tbody tr th:only-of-type {\n",
       "        vertical-align: middle;\n",
       "    }\n",
       "\n",
       "    .dataframe tbody tr th {\n",
       "        vertical-align: top;\n",
       "    }\n",
       "\n",
       "    .dataframe thead th {\n",
       "        text-align: right;\n",
       "    }\n",
       "</style>\n",
       "<table border=\"1\" class=\"dataframe\">\n",
       "  <thead>\n",
       "    <tr style=\"text-align: right;\">\n",
       "      <th></th>\n",
       "      <th>100%max</th>\n",
       "      <th>99%</th>\n",
       "      <th>95%</th>\n",
       "      <th>90%</th>\n",
       "      <th>75%</th>\n",
       "      <th>50%</th>\n",
       "      <th>25%</th>\n",
       "      <th>10%</th>\n",
       "      <th>5%</th>\n",
       "      <th>1%</th>\n",
       "      <th>0%min</th>\n",
       "    </tr>\n",
       "  </thead>\n",
       "  <tbody>\n",
       "    <tr>\n",
       "      <th>0</th>\n",
       "      <td>572000.0</td>\n",
       "      <td>208841.72</td>\n",
       "      <td>108479.2</td>\n",
       "      <td>77852.8</td>\n",
       "      <td>52700.0</td>\n",
       "      <td>35600.0</td>\n",
       "      <td>20000.0</td>\n",
       "      <td>8302.8</td>\n",
       "      <td>4044.8</td>\n",
       "      <td>1492.64</td>\n",
       "      <td>1.0</td>\n",
       "    </tr>\n",
       "    <tr>\n",
       "      <th>1</th>\n",
       "      <td>1040000.0</td>\n",
       "      <td>145449.24</td>\n",
       "      <td>74698.8</td>\n",
       "      <td>60000.0</td>\n",
       "      <td>41800.0</td>\n",
       "      <td>29760.0</td>\n",
       "      <td>18974.0</td>\n",
       "      <td>8782.4</td>\n",
       "      <td>5560.0</td>\n",
       "      <td>3000.00</td>\n",
       "      <td>700.0</td>\n",
       "    </tr>\n",
       "  </tbody>\n",
       "</table>\n",
       "</div>"
      ],
      "text/plain": [
       "     100%max        99%       95%      90%      75%      50%      25%     10%  \\\n",
       "0   572000.0  208841.72  108479.2  77852.8  52700.0  35600.0  20000.0  8302.8   \n",
       "1  1040000.0  145449.24   74698.8  60000.0  41800.0  29760.0  18974.0  8782.4   \n",
       "\n",
       "       5%       1%  0%min  \n",
       "0  4044.8  1492.64    1.0  \n",
       "1  5560.0  3000.00  700.0  "
      ]
     },
     "execution_count": 103,
     "metadata": {},
     "output_type": "execute_result"
    }
   ],
   "source": [
    "# # 计算收入的分位数\n",
    "# 在剔除其他变量前计算分位数，避免样本选择带来误差\n",
    "tmp_inp=np.array(res5['income_p'])\n",
    "tmp_inf=np.array(res5['income_f'])\n",
    "per_p=[np.percentile(tmp_inp,x) for x in [100,99,95,90,75,50,25,10,5,1,0]]\n",
    "per_f=[np.percentile(tmp_inf,x) for x in [100,99,95,90,75,50,25,10,5,1,0]]\n",
    "col_name=['100%max','99%','95%','90%','75%','50%','25%','10%','5%','1%','0%min']\n",
    "pd.DataFrame([per_p,per_f],columns=col_name)"
   ]
  },
  {
   "cell_type": "code",
   "execution_count": 50,
   "metadata": {},
   "outputs": [],
   "source": [
    "# 剔除首尾1%的极端数据，61条\n",
    "# index8=np.where((res5.income_p<=np.percentile(tmp_inp,1))|(res5.income_p>=np.percentile(tmp_inp,99))|\n",
    "#                (res5.income_f<=np.percentile(tmp_inf,1))|(res5.income_f>=np.percentile(tmp_inf,99)))[0]\n",
    "# res6=res5.drop(index8)# 剩1108\n",
    "# res6.reset_index(drop=True,inplace=True)"
   ]
  },
  {
   "cell_type": "code",
   "execution_count": 104,
   "metadata": {},
   "outputs": [],
   "source": [
    "# 根据其他相关变量剔除样本，包括缺失、不适用等\n",
    "# 先不管家庭层面的变量，因为可能用不到\n",
    "res7=res6.dropna(subset=['provcd16_p','provcd16_f','urban16_p','urban16_f','pa301_p','pa301_f',\n",
    "                         'cfps_gender_p','cfps_gender_f','qn4001_p','qn4001_p','qp201_p','qp201_f',\n",
    "                         'cfps2016eduy_p','cfps2016eduy_f','cfps2016edu_p','cfps2016edu_f']).reset_index(drop=True)\n",
    "index9=np.where((res7.urban16_p==-9)|(res7.urban16_f==-9)|(res7.provcd16_p==-9)|(res7.provcd16_f==-9)|\n",
    "            (res7.cfps_gender_p==-8)|(res7.cfps_gender_f==-8)|(res7.pa301_p.isin([-1,-2,5,79]))|\n",
    "            (res7.pa301_f.isin([-1,-2,5,79]))|(res7.qn4001_p.isin([-1,-9]))|(res7.qn4001_f.isin([-1,-9]))|\n",
    "            (res7.qp201_p.isin([-1,-9]))|(res7.qp201_f.isin([-1,-9])))[0]\n",
    "res7.drop(index9,inplace=True)\n",
    "res7.reset_index(drop=True,inplace=True)# 剩1117\n",
    "res7['year']=2016"
   ]
  },
  {
   "cell_type": "code",
   "execution_count": 105,
   "metadata": {},
   "outputs": [
    {
     "data": {
      "text/plain": [
       "1073"
      ]
     },
     "execution_count": 105,
     "metadata": {},
     "output_type": "execute_result"
    }
   ],
   "source": [
    "len(res7)"
   ]
  },
  {
   "cell_type": "code",
   "execution_count": 106,
   "metadata": {},
   "outputs": [],
   "source": [
    "# 计算收入阶层\n",
    "def per_num(x,tmp):\n",
    "    '''\n",
    "    x:income\n",
    "    tmp:array(income)\n",
    "    '''\n",
    "    if x<=np.percentile(tmp,20):\n",
    "        return 1\n",
    "    elif np.percentile(tmp,20)<x<=np.percentile(tmp,40):\n",
    "        return 2\n",
    "    elif np.percentile(tmp,40)<x<=np.percentile(tmp,60):\n",
    "        return 3\n",
    "    elif np.percentile(tmp,60)<x<=np.percentile(tmp,80):\n",
    "        return 4\n",
    "    else:\n",
    "        return 5\n",
    "\n",
    "res7['rank_p']=res7['income_p'].map(lambda x:per_num(x,tmp_inp))\n",
    "res7['rank_f']=res7['income_f'].map(lambda x:per_num(x,tmp_inf))\n",
    "# 收入阶层流动\n",
    "res7['rank_flow']=res7.apply(lambda x:1 if x['rank_p']>x['rank_f'] else (-1 if x['rank_p']<x['rank_f'] else 0),axis=1)"
   ]
  },
  {
   "cell_type": "code",
   "execution_count": 107,
   "metadata": {},
   "outputs": [
    {
     "data": {
      "text/plain": [
       "rank_p\n",
       "1    212\n",
       "2    236\n",
       "3    189\n",
       "4    228\n",
       "5    208\n",
       "Name: pid_p, dtype: int64"
      ]
     },
     "execution_count": 107,
     "metadata": {},
     "output_type": "execute_result"
    }
   ],
   "source": [
    "res7.groupby('rank_p')['pid_p'].size()"
   ]
  },
  {
   "cell_type": "code",
   "execution_count": 78,
   "metadata": {
    "scrolled": true
   },
   "outputs": [
    {
     "data": {
      "text/plain": [
       "rank_f\n",
       "1    214\n",
       "2    216\n",
       "3    213\n",
       "4    221\n",
       "5    209\n",
       "Name: pid_f, dtype: int64"
      ]
     },
     "execution_count": 78,
     "metadata": {},
     "output_type": "execute_result"
    }
   ],
   "source": [
    "res7.groupby('rank_f')['pid_f'].size()"
   ]
  },
  {
   "cell_type": "code",
   "execution_count": 57,
   "metadata": {},
   "outputs": [
    {
     "data": {
      "text/plain": [
       "rank_flow\n",
       "-1    418\n",
       " 0    234\n",
       " 1    421\n",
       "dtype: int64"
      ]
     },
     "execution_count": 57,
     "metadata": {},
     "output_type": "execute_result"
    }
   ],
   "source": [
    "res7.groupby('rank_flow').size()"
   ]
  },
  {
   "cell_type": "code",
   "execution_count": 58,
   "metadata": {
    "scrolled": true
   },
   "outputs": [
    {
     "data": {
      "text/plain": [
       "urban16_f\n",
       "0.0    443\n",
       "1.0    630\n",
       "dtype: int64"
      ]
     },
     "execution_count": 58,
     "metadata": {},
     "output_type": "execute_result"
    }
   ],
   "source": [
    "res7.groupby('urban16_f').size()"
   ]
  },
  {
   "cell_type": "code",
   "execution_count": 116,
   "metadata": {
    "collapsed": true
   },
   "outputs": [
    {
     "data": {
      "text/plain": [
       "['fid16_p',\n",
       " 'pid_p',\n",
       " 'provcd_p',\n",
       " 'urban_p',\n",
       " 'age_p',\n",
       " 'gender_p',\n",
       " 'hukou_p',\n",
       " 'school_p',\n",
       " 'employ_p',\n",
       " 'party_p',\n",
       " 'isei_p',\n",
       " 'heal_p',\n",
       " 'eduy_p',\n",
       " 'edu_p',\n",
       " 'income_p',\n",
       " 'fid16_f',\n",
       " 'pid_f',\n",
       " 'provcd_f',\n",
       " 'urban_f',\n",
       " 'age_f',\n",
       " 'gender_f',\n",
       " 'hukou_f',\n",
       " 'school_f',\n",
       " 'employ_f',\n",
       " 'party_f',\n",
       " 'isei_f',\n",
       " 'heal_f',\n",
       " 'eduy_f',\n",
       " 'edu_f',\n",
       " 'income_f',\n",
       " 'fid16',\n",
       " 'fr1',\n",
       " 'fr101',\n",
       " 'fs6v',\n",
       " 'fs8',\n",
       " 'durables_asset',\n",
       " 'finance_asset',\n",
       " 'nonhousing_debts',\n",
       " 'land_asset',\n",
       " 'resivalue',\n",
       " 'age_dif',\n",
       " 'year',\n",
       " 'rank_p',\n",
       " 'rank_f',\n",
       " 'rank_flow']"
      ]
     },
     "execution_count": 116,
     "metadata": {},
     "output_type": "execute_result"
    }
   ],
   "source": [
    "res7.columns.values.tolist()"
   ]
  },
  {
   "cell_type": "code",
   "execution_count": 108,
   "metadata": {},
   "outputs": [],
   "source": [
    "res7.drop(['incomea_p','incomea_f','incomeb_p','incomeb_f','incomeb_imp_p','incomeb_imp_f','tb4_a16_p','tb4_a16_f'],axis=1,inplace=True)"
   ]
  },
  {
   "cell_type": "code",
   "execution_count": 109,
   "metadata": {},
   "outputs": [],
   "source": [
    "res7.rename(columns={'provcd16_p':'provcd_p','provcd16_f':'provcd_f','urban16_p':'urban_p','urban16_f':'urban_f','cfps_age_p':'age_p',\n",
    "                    'cfps_age_f':'age_f','cfps_gender_p':'gender_p','cfps_gender_f':'gender_f','pa301_p':'hukou_p','pa301_f':'hukou_f',\n",
    "                    'qg101_p':'job_p','qg101_f':'job_f','cfps2016edu_p':'edu_p','cfps2016edu_f':'edu_f','cfpsedu2016_p':'edu_p','cfpsedu2016_f':'edu_f',\n",
    "                    'qn4001_p':'party_p','qn4001_f':'party_f','qp201_p':'heal_p','qp201_f':'heal_f','cfps2016eduy_p':'eduy_p','cfps2016eduy_f':'eduy_f'},inplace=True)"
   ]
  },
  {
   "cell_type": "code",
   "execution_count": 110,
   "metadata": {},
   "outputs": [
    {
     "data": {
      "image/png": "[encoded data removed]",
      "text/plain": [
       "<Figure size 864x360 with 2 Axes>"
      ]
     },
     "metadata": {
      "needs_background": "light"
     },
     "output_type": "display_data"
    }
   ],
   "source": [
    "# 子代收入分布情况\n",
    "fig_p = plt.figure(figsize=(12,5))\n",
    "ax1_p = fig_p.add_subplot(121)\n",
    "ax2_p=fig_p.add_subplot(122)\n",
    "ax1_p.hist(res5['income_p'],bins=10)\n",
    "ax2_p.boxplot(res5['income_p'])\n",
    "fig_p.tight_layout()\n",
    "plt.show()"
   ]
  },
  {
   "cell_type": "code",
   "execution_count": 61,
   "metadata": {},
   "outputs": [
    {
     "data": {
      "image/png": "[encoded data removed]",
      "text/plain": [
       "<Figure size 864x360 with 2 Axes>"
      ]
     },
     "metadata": {
      "needs_background": "light"
     },
     "output_type": "display_data"
    }
   ],
   "source": [
    "# 父代收入分布情况\n",
    "fig_f = plt.figure(figsize=(12,5))\n",
    "ax1_f = fig_f.add_subplot(121)\n",
    "ax2_f=fig_f.add_subplot(122)\n",
    "ax1_f.hist(res5['income_f'],bins=10)\n",
    "ax2_f.boxplot(res5['income_f'])\n",
    "fig_f.tight_layout()\n",
    "plt.show()"
   ]
  },
  {
   "cell_type": "code",
   "execution_count": 111,
   "metadata": {},
   "outputs": [],
   "source": [
    "res7[['hukou_p','hukou_f']]=res7[['hukou_p','hukou_f']].apply(lambda x:x.replace(3,0))\n",
    "res7['rank_dif']=res7['rank_p']-res7['rank_f']"
   ]
  },
  {
   "cell_type": "code",
   "execution_count": 112,
   "metadata": {},
   "outputs": [
    {
     "data": {
      "text/html": [
       "<div>\n",
       "<style scoped>\n",
       "    .dataframe tbody tr th:only-of-type {\n",
       "        vertical-align: middle;\n",
       "    }\n",
       "\n",
       "    .dataframe tbody tr th {\n",
       "        vertical-align: top;\n",
       "    }\n",
       "\n",
       "    .dataframe thead th {\n",
       "        text-align: right;\n",
       "    }\n",
       "</style>\n",
       "<table border=\"1\" class=\"dataframe\">\n",
       "  <thead>\n",
       "    <tr style=\"text-align: right;\">\n",
       "      <th>rank_p</th>\n",
       "      <th>1</th>\n",
       "      <th>2</th>\n",
       "      <th>3</th>\n",
       "      <th>4</th>\n",
       "      <th>5</th>\n",
       "    </tr>\n",
       "    <tr>\n",
       "      <th>rank_f</th>\n",
       "      <th></th>\n",
       "      <th></th>\n",
       "      <th></th>\n",
       "      <th></th>\n",
       "      <th></th>\n",
       "    </tr>\n",
       "  </thead>\n",
       "  <tbody>\n",
       "    <tr>\n",
       "      <th>1</th>\n",
       "      <td>37</td>\n",
       "      <td>39</td>\n",
       "      <td>25</td>\n",
       "      <td>31</td>\n",
       "      <td>21</td>\n",
       "    </tr>\n",
       "    <tr>\n",
       "      <th>2</th>\n",
       "      <td>25</td>\n",
       "      <td>41</td>\n",
       "      <td>33</td>\n",
       "      <td>34</td>\n",
       "      <td>17</td>\n",
       "    </tr>\n",
       "    <tr>\n",
       "      <th>3</th>\n",
       "      <td>30</td>\n",
       "      <td>33</td>\n",
       "      <td>25</td>\n",
       "      <td>27</td>\n",
       "      <td>26</td>\n",
       "    </tr>\n",
       "    <tr>\n",
       "      <th>4</th>\n",
       "      <td>31</td>\n",
       "      <td>33</td>\n",
       "      <td>23</td>\n",
       "      <td>19</td>\n",
       "      <td>24</td>\n",
       "    </tr>\n",
       "    <tr>\n",
       "      <th>5</th>\n",
       "      <td>28</td>\n",
       "      <td>27</td>\n",
       "      <td>18</td>\n",
       "      <td>28</td>\n",
       "      <td>19</td>\n",
       "    </tr>\n",
       "  </tbody>\n",
       "</table>\n",
       "</div>"
      ],
      "text/plain": [
       "rank_p   1   2   3   4   5\n",
       "rank_f                    \n",
       "1       37  39  25  31  21\n",
       "2       25  41  33  34  17\n",
       "3       30  33  25  27  26\n",
       "4       31  33  23  19  24\n",
       "5       28  27  18  28  19"
      ]
     },
     "execution_count": 112,
     "metadata": {},
     "output_type": "execute_result"
    }
   ],
   "source": [
    "# 注意索引和列，不再是从0开始，而是直接对应索引和列的值,如果从0开始记得用iloc\n",
    "a=res7[res7.hukou_p==1].groupby(['rank_f','rank_p']).size().unstack()\n",
    "a"
   ]
  },
  {
   "cell_type": "code",
   "execution_count": 27,
   "metadata": {},
   "outputs": [],
   "source": [
    "total=a.sum().sum()# 总和\n",
    "sum_p=a.sum(axis=0)# 列求和\n",
    "sum_f=a.sum(axis=1)# 行求和"
   ]
  },
  {
   "cell_type": "code",
   "execution_count": 28,
   "metadata": {},
   "outputs": [
    {
     "data": {
      "text/html": [
       "<div>\n",
       "<style scoped>\n",
       "    .dataframe tbody tr th:only-of-type {\n",
       "        vertical-align: middle;\n",
       "    }\n",
       "\n",
       "    .dataframe tbody tr th {\n",
       "        vertical-align: top;\n",
       "    }\n",
       "\n",
       "    .dataframe thead th {\n",
       "        text-align: right;\n",
       "    }\n",
       "</style>\n",
       "<table border=\"1\" class=\"dataframe\">\n",
       "  <thead>\n",
       "    <tr style=\"text-align: right;\">\n",
       "      <th></th>\n",
       "      <th>1</th>\n",
       "      <th>2</th>\n",
       "      <th>3</th>\n",
       "      <th>4</th>\n",
       "      <th>5</th>\n",
       "    </tr>\n",
       "  </thead>\n",
       "  <tbody>\n",
       "    <tr>\n",
       "      <th>1</th>\n",
       "      <td>1.111457</td>\n",
       "      <td>1.022555</td>\n",
       "      <td>0.914506</td>\n",
       "      <td>1.011614</td>\n",
       "      <td>0.890233</td>\n",
       "    </tr>\n",
       "    <tr>\n",
       "      <th>2</th>\n",
       "      <td>0.766004</td>\n",
       "      <td>1.096493</td>\n",
       "      <td>1.231290</td>\n",
       "      <td>1.131703</td>\n",
       "      <td>0.735078</td>\n",
       "    </tr>\n",
       "    <tr>\n",
       "      <th>3</th>\n",
       "      <td>0.977878</td>\n",
       "      <td>0.938876</td>\n",
       "      <td>0.992336</td>\n",
       "      <td>0.956069</td>\n",
       "      <td>1.195997</td>\n",
       "    </tr>\n",
       "    <tr>\n",
       "      <th>4</th>\n",
       "      <td>1.095976</td>\n",
       "      <td>1.018319</td>\n",
       "      <td>0.990199</td>\n",
       "      <td>0.729718</td>\n",
       "      <td>1.197412</td>\n",
       "    </tr>\n",
       "    <tr>\n",
       "      <th>5</th>\n",
       "      <td>1.072406</td>\n",
       "      <td>0.902601</td>\n",
       "      <td>0.839516</td>\n",
       "      <td>1.164988</td>\n",
       "      <td>1.026947</td>\n",
       "    </tr>\n",
       "  </tbody>\n",
       "</table>\n",
       "</div>"
      ],
      "text/plain": [
       "          1         2         3         4         5\n",
       "1  1.111457  1.022555  0.914506  1.011614  0.890233\n",
       "2  0.766004  1.096493  1.231290  1.131703  0.735078\n",
       "3  0.977878  0.938876  0.992336  0.956069  1.195997\n",
       "4  1.095976  1.018319  0.990199  0.729718  1.197412\n",
       "5  1.072406  0.902601  0.839516  1.164988  1.026947"
      ]
     },
     "execution_count": 28,
     "metadata": {},
     "output_type": "execute_result"
    }
   ],
   "source": [
    "# 流动性指数、继承性指数\n",
    "m=pd.DataFrame(np.zeros((5,5)))\n",
    "# i父亲，j子代\n",
    "for i in range(5):\n",
    "    for j in range(5):\n",
    "        m.iloc[i,j]=a.iloc[i,j]*total/(sum_p.iloc[j]*sum_f.iloc[i])\n",
    "m.index=range(1,6)\n",
    "m.columns=range(1,6)\n",
    "m"
   ]
  },
  {
   "cell_type": "code",
   "execution_count": 29,
   "metadata": {
    "scrolled": true
   },
   "outputs": [
    {
     "data": {
      "text/html": [
       "<div>\n",
       "<style scoped>\n",
       "    .dataframe tbody tr th:only-of-type {\n",
       "        vertical-align: middle;\n",
       "    }\n",
       "\n",
       "    .dataframe tbody tr th {\n",
       "        vertical-align: top;\n",
       "    }\n",
       "\n",
       "    .dataframe thead th {\n",
       "        text-align: right;\n",
       "    }\n",
       "</style>\n",
       "<table border=\"1\" class=\"dataframe\">\n",
       "  <thead>\n",
       "    <tr style=\"text-align: right;\">\n",
       "      <th></th>\n",
       "      <th>index_out</th>\n",
       "      <th>index_in</th>\n",
       "    </tr>\n",
       "  </thead>\n",
       "  <tbody>\n",
       "    <tr>\n",
       "      <th>1</th>\n",
       "      <td>29.00</td>\n",
       "      <td>28.50</td>\n",
       "    </tr>\n",
       "    <tr>\n",
       "      <th>2</th>\n",
       "      <td>27.25</td>\n",
       "      <td>33.00</td>\n",
       "    </tr>\n",
       "    <tr>\n",
       "      <th>3</th>\n",
       "      <td>29.00</td>\n",
       "      <td>24.75</td>\n",
       "    </tr>\n",
       "    <tr>\n",
       "      <th>4</th>\n",
       "      <td>27.75</td>\n",
       "      <td>30.00</td>\n",
       "    </tr>\n",
       "    <tr>\n",
       "      <th>5</th>\n",
       "      <td>25.25</td>\n",
       "      <td>22.00</td>\n",
       "    </tr>\n",
       "  </tbody>\n",
       "</table>\n",
       "</div>"
      ],
      "text/plain": [
       "   index_out  index_in\n",
       "1      29.00     28.50\n",
       "2      27.25     33.00\n",
       "3      29.00     24.75\n",
       "4      27.75     30.00\n",
       "5      25.25     22.00"
      ]
     },
     "execution_count": 29,
     "metadata": {},
     "output_type": "execute_result"
    }
   ],
   "source": [
    "# 流出指数index_out，流入指数index_in\n",
    "b=pd.DataFrame(np.zeros((5,2)),columns=['index_out','index_in'],index=range(1,6))\n",
    "for i in b.index:\n",
    "    b.loc[i,'index_out']=(sum_f[i]-a[i][i])/(len(b)-1)\n",
    "    b.loc[i,'index_in']=(sum_p[i]-a[i][i])/(len(b)-1)  \n",
    "b"
   ]
  },
  {
   "cell_type": "code",
   "execution_count": 113,
   "metadata": {},
   "outputs": [],
   "source": [
    "p_city_pro=pd.read_csv('data result/p_city_pro.csv',encoding='GBK',index_col=0).reset_index()\n",
    "expend_farm_pro=pd.read_csv('data result/expend_farm_pro.csv',encoding='GBK',index_col=0).reset_index()\n",
    "expend_edu_pro=pd.read_csv('data result/expend_edu_pro.csv',encoding='GBK',index_col=0).reset_index()\n",
    "exp_GDP_pro=pd.read_csv('data result/exp_GDP_pro.csv',encoding='GBK',index_col=0).reset_index()\n",
    "province=pd.read_csv('data result/province.csv',encoding='GBK')\n",
    "birth_rate=pd.read_csv('data result/birth_rate.csv',encoding='GBK',index_col=0).reset_index()\n",
    "cpi=pd.read_csv('data result/各省CPI_2010基期.csv',encoding='GBK',index_col=0).reset_index()\n",
    "pGDP=pd.read_csv('data result/各省人均GDP.csv',encoding='GBK',index_col=0).reset_index()"
   ]
  },
  {
   "cell_type": "code",
   "execution_count": 114,
   "metadata": {},
   "outputs": [],
   "source": [
    "p_city_pro=province.merge(p_city_pro,left_on='Label',right_on='index').drop(['Label','index'],axis=1)\n",
    "expend_edu_pro=province.merge(expend_edu_pro,left_on='Label',right_on='index').drop(['Label','index'],axis=1)\n",
    "expend_farm_pro=province.merge(expend_farm_pro,left_on='Label',right_on='index').drop(['Label','index'],axis=1)\n",
    "exp_GDP_pro=province.merge(exp_GDP_pro,left_on='Label',right_on='index').drop(['Label','index'],axis=1)\n",
    "birth_rate=province.merge(birth_rate,left_on='Label',right_on='index').drop(['Label','index'],axis=1)\n",
    "cpi=province.merge(cpi,left_on='Label',right_on='index').drop(['Label','index'],axis=1)\n",
    "pGDP=province.merge(pGDP,left_on='Label',right_on='index').drop(['Label','index'],axis=1)"
   ]
  },
  {
   "cell_type": "code",
   "execution_count": 115,
   "metadata": {
    "scrolled": true
   },
   "outputs": [],
   "source": [
    "# 将人均GDP调整到2010年的不变价格\n",
    "col=['2010','2011','2012','2013','2014','2015','2016']\n",
    "for i in col:\n",
    "    pGDP[i]=pGDP[i]/cpi[i]"
   ]
  },
  {
   "cell_type": "code",
   "execution_count": 116,
   "metadata": {},
   "outputs": [],
   "source": [
    "res7=res7.merge(p_city_pro[['No','2016']],left_on='provcd_p',right_on='No').rename(columns={'2016':'p_city_pro'}).drop('No',axis=1)\n",
    "res7=res7.merge(expend_farm_pro[['No','2016']],left_on='provcd_p',right_on='No').rename(columns={'2016':'expend_farm_pro'}).drop('No',axis=1)\n",
    "res7=res7.merge(expend_edu_pro[['No','2016']],left_on='provcd_p',right_on='No').rename(columns={'2016':'expend_edu_pro'}).drop('No',axis=1)\n",
    "res7=res7.merge(exp_GDP_pro[['No','2016']],left_on='provcd_p',right_on='No').rename(columns={'2016':'exp_GDP_pro'}).drop('No',axis=1)\n",
    "res7=res7.merge(birth_rate[['No','2016']],left_on='provcd_p',right_on='No').rename(columns={'2016':'birth_rate'}).drop('No',axis=1)\n",
    "res7=res7.merge(pGDP[['No','2016']],left_on='provcd_p',right_on='No').rename(columns={'2016':'pGDP'}).drop('No',axis=1)\n",
    "res7=res7.merge(cpi[['No','2016']],left_on='provcd_p',right_on='No').rename(columns={'2016':'cpi'}).drop('No',axis=1)"
   ]
  },
  {
   "cell_type": "code",
   "execution_count": 117,
   "metadata": {},
   "outputs": [],
   "source": [
    "# 2010年为基期，调整为不变价格\n",
    "res7[['income_p','income_f']]=res7.apply(lambda x:x[['income_p','income_f']]/x['cpi'],axis=1)"
   ]
  },
  {
   "cell_type": "code",
   "execution_count": 118,
   "metadata": {},
   "outputs": [],
   "source": [
    "res7.to_csv('data result/model2016.csv',index=False)"
   ]
  },
  {
   "cell_type": "code",
   "execution_count": null,
   "metadata": {},
   "outputs": [],
   "source": []
  },
  {
   "cell_type": "code",
   "execution_count": null,
   "metadata": {},
   "outputs": [],
   "source": []
  },
  {
   "cell_type": "code",
   "execution_count": null,
   "metadata": {},
   "outputs": [],
   "source": []
  },
  {
   "cell_type": "code",
   "execution_count": null,
   "metadata": {},
   "outputs": [],
   "source": []
  },
  {
   "cell_type": "code",
   "execution_count": null,
   "metadata": {},
   "outputs": [],
   "source": []
  },
  {
   "cell_type": "code",
   "execution_count": null,
   "metadata": {},
   "outputs": [],
   "source": []
  },
  {
   "cell_type": "code",
   "execution_count": null,
   "metadata": {},
   "outputs": [],
   "source": []
  },
  {
   "cell_type": "code",
   "execution_count": null,
   "metadata": {},
   "outputs": [],
   "source": []
  }
 ],
 "metadata": {
  "kernelspec": {
   "display_name": "Python 3",
   "language": "python",
   "name": "python3"
  },
  "language_info": {
   "codemirror_mode": {
    "name": "ipython",
    "version": 3
   },
   "file_extension": ".py",
   "mimetype": "text/x-python",
   "name": "python",
   "nbconvert_exporter": "python",
   "pygments_lexer": "ipython3",
   "version": "3.7.2"
  }
 },
 "nbformat": 4,
 "nbformat_minor": 2
}
