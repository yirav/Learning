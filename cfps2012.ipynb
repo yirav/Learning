{
 "cells": [
  {
   "cell_type": "code",
   "execution_count": 1,
   "metadata": {},
   "outputs": [],
   "source": [
    "import pandas as pd\n",
    "import numpy as np\n",
    "from matplotlib import pyplot as plt"
   ]
  },
  {
   "cell_type": "markdown",
   "metadata": {},
   "source": [
    "# CFPS2012"
   ]
  },
  {
   "cell_type": "code",
   "execution_count": 22,
   "metadata": {},
   "outputs": [],
   "source": [
    "# 成人问卷\n",
    "df1=pd.read_sas('CFPS2012/cfps2012adult_201906.sas7bdat')\n",
    "df1['pid']=df1['pid'].astype(int)\n",
    "# 家庭成员关系\n",
    "# 需要从中识别父亲编号pid_f，再去成人问卷中匹配父亲pid\n",
    "df2=pd.read_sas('CFPS2012/cfps2012famconf_092015.sas7bdat')\n",
    "df2[['pid','pid_f']]=df2[['pid','pid_f']].astype(int)\n",
    "# 2016跨年数据\n",
    "df3=pd.read_sas('CFPS2016/cfps2016crossyearid_201807.sas7bdat')\n",
    "df3['pid']=df3['pid'].astype(int)\n",
    "# 2012跨年数据\n",
    "# df4=pd.read_sas('CFPS2012/crossyearid_032015.sas7bdat')\n",
    "# df4['pid']=df4['pid'].astype(int)"
   ]
  },
  {
   "cell_type": "code",
   "execution_count": 23,
   "metadata": {},
   "outputs": [],
   "source": [
    "# describe后发现id有为负数的，视作异常样本\n",
    "# df1剔除id不在区间范围的记录\n",
    "# 删除0条\n",
    "out_df1=np.where((df1.pid<105179433)|(df1.pid>997150431))[0]\n",
    "df1.drop(out_df1,inplace=True)\n",
    "df1.reset_index(drop=True,inplace=True)# 剩35719\n",
    "\n",
    "# df2剔除pid_f等于-8的样本的记录\n",
    "# 删除32667\n",
    "out_df2=np.where((df2.pid<100453401)|(df2.pid>997150433))[0] # 查看后有4条重复记录\n",
    "index1=np.where((df2.pid_f==-8))[0]\n",
    "df2_1=df2.drop(list(out_df2)+list(index1))\n",
    "df2_1.reset_index(drop=True,inplace=True)\n",
    "# 筛选所需变量\n",
    "df2_2=df2_1[['pid','pid_f','TB4_A12_p','TB4_A12_f']] # 剩21508"
   ]
  },
  {
   "cell_type": "code",
   "execution_count": 24,
   "metadata": {},
   "outputs": [
    {
     "name": "stderr",
     "output_type": "stream",
     "text": [
      "c:\\users\\yirav\\appdata\\local\\programs\\python\\python37\\lib\\site-packages\\ipykernel_launcher.py:4: SettingWithCopyWarning: \n",
      "A value is trying to be set on a copy of a slice from a DataFrame\n",
      "\n",
      "See the caveats in the documentation: http://pandas.pydata.org/pandas-docs/stable/indexing.html#indexing-view-versus-copy\n",
      "  after removing the cwd from sys.path.\n"
     ]
    }
   ],
   "source": [
    "# 查看有无id重复记录\n",
    "df1[df1.pid.duplicated(keep=False)]# 无重复\n",
    "df2_2[df2_2.duplicated(subset=['pid','pid_f'],keep=False)]# 无重复\n",
    "df2_2.drop_duplicates(subset=['pid','pid_f'],keep='first',inplace=True)# 剩21508"
   ]
  },
  {
   "cell_type": "code",
   "execution_count": 25,
   "metadata": {},
   "outputs": [
    {
     "data": {
      "text/html": [
       "<div>\n",
       "<style scoped>\n",
       "    .dataframe tbody tr th:only-of-type {\n",
       "        vertical-align: middle;\n",
       "    }\n",
       "\n",
       "    .dataframe tbody tr th {\n",
       "        vertical-align: top;\n",
       "    }\n",
       "\n",
       "    .dataframe thead th {\n",
       "        text-align: right;\n",
       "    }\n",
       "</style>\n",
       "<table border=\"1\" class=\"dataframe\">\n",
       "  <thead>\n",
       "    <tr style=\"text-align: right;\">\n",
       "      <th></th>\n",
       "      <th>pid_p</th>\n",
       "      <th>provcd_p</th>\n",
       "      <th>urban12_p</th>\n",
       "      <th>cfps2012_age_p</th>\n",
       "      <th>cfps2012_gender_p</th>\n",
       "      <th>qn401_s_1_p</th>\n",
       "      <th>qa301_p</th>\n",
       "      <th>wc01_p</th>\n",
       "      <th>employ_p</th>\n",
       "      <th>qp201_p</th>\n",
       "      <th>...</th>\n",
       "      <th>qp201_f</th>\n",
       "      <th>edu2012_f</th>\n",
       "      <th>eduy2012_f</th>\n",
       "      <th>income_f</th>\n",
       "      <th>income_adj_f</th>\n",
       "      <th>income_12_f</th>\n",
       "      <th>income_adj_12_f</th>\n",
       "      <th>cfps2012edu_f</th>\n",
       "      <th>cfps2012eduy_f</th>\n",
       "      <th>cfps2012eduy_im_f</th>\n",
       "    </tr>\n",
       "  </thead>\n",
       "  <tbody>\n",
       "    <tr>\n",
       "      <th>0</th>\n",
       "      <td>110009105</td>\n",
       "      <td>11.0</td>\n",
       "      <td>1.0</td>\n",
       "      <td>28.0</td>\n",
       "      <td>1.0</td>\n",
       "      <td>78.0</td>\n",
       "      <td>3.0</td>\n",
       "      <td>0.0</td>\n",
       "      <td>1.0</td>\n",
       "      <td>3.0</td>\n",
       "      <td>...</td>\n",
       "      <td>2.0</td>\n",
       "      <td>4.0</td>\n",
       "      <td>12.0</td>\n",
       "      <td>15000.0</td>\n",
       "      <td>15000.0</td>\n",
       "      <td>15000.0</td>\n",
       "      <td>15000.0</td>\n",
       "      <td>4.0</td>\n",
       "      <td>12.0</td>\n",
       "      <td>12.0</td>\n",
       "    </tr>\n",
       "    <tr>\n",
       "      <th>1</th>\n",
       "      <td>110009107</td>\n",
       "      <td>11.0</td>\n",
       "      <td>1.0</td>\n",
       "      <td>23.0</td>\n",
       "      <td>1.0</td>\n",
       "      <td>78.0</td>\n",
       "      <td>3.0</td>\n",
       "      <td>0.0</td>\n",
       "      <td>0.0</td>\n",
       "      <td>3.0</td>\n",
       "      <td>...</td>\n",
       "      <td>4.0</td>\n",
       "      <td>1.0</td>\n",
       "      <td>0.0</td>\n",
       "      <td>0.0</td>\n",
       "      <td>0.0</td>\n",
       "      <td>0.0</td>\n",
       "      <td>0.0</td>\n",
       "      <td>1.0</td>\n",
       "      <td>NaN</td>\n",
       "      <td>6.0</td>\n",
       "    </tr>\n",
       "    <tr>\n",
       "      <th>2</th>\n",
       "      <td>110013103</td>\n",
       "      <td>11.0</td>\n",
       "      <td>1.0</td>\n",
       "      <td>18.0</td>\n",
       "      <td>1.0</td>\n",
       "      <td>6.0</td>\n",
       "      <td>3.0</td>\n",
       "      <td>1.0</td>\n",
       "      <td>8.0</td>\n",
       "      <td>4.0</td>\n",
       "      <td>...</td>\n",
       "      <td>3.0</td>\n",
       "      <td>3.0</td>\n",
       "      <td>9.0</td>\n",
       "      <td>26000.0</td>\n",
       "      <td>26000.0</td>\n",
       "      <td>26000.0</td>\n",
       "      <td>26000.0</td>\n",
       "      <td>3.0</td>\n",
       "      <td>9.0</td>\n",
       "      <td>9.0</td>\n",
       "    </tr>\n",
       "    <tr>\n",
       "      <th>3</th>\n",
       "      <td>110015107</td>\n",
       "      <td>11.0</td>\n",
       "      <td>1.0</td>\n",
       "      <td>24.0</td>\n",
       "      <td>1.0</td>\n",
       "      <td>78.0</td>\n",
       "      <td>3.0</td>\n",
       "      <td>0.0</td>\n",
       "      <td>8.0</td>\n",
       "      <td>2.0</td>\n",
       "      <td>...</td>\n",
       "      <td>4.0</td>\n",
       "      <td>4.0</td>\n",
       "      <td>12.0</td>\n",
       "      <td>30000.0</td>\n",
       "      <td>30000.0</td>\n",
       "      <td>30000.0</td>\n",
       "      <td>30000.0</td>\n",
       "      <td>4.0</td>\n",
       "      <td>12.0</td>\n",
       "      <td>12.0</td>\n",
       "    </tr>\n",
       "    <tr>\n",
       "      <th>4</th>\n",
       "      <td>110020103</td>\n",
       "      <td>11.0</td>\n",
       "      <td>1.0</td>\n",
       "      <td>44.0</td>\n",
       "      <td>1.0</td>\n",
       "      <td>78.0</td>\n",
       "      <td>3.0</td>\n",
       "      <td>0.0</td>\n",
       "      <td>8.0</td>\n",
       "      <td>4.0</td>\n",
       "      <td>...</td>\n",
       "      <td>3.0</td>\n",
       "      <td>2.0</td>\n",
       "      <td>6.0</td>\n",
       "      <td>38400.0</td>\n",
       "      <td>38400.0</td>\n",
       "      <td>38400.0</td>\n",
       "      <td>38400.0</td>\n",
       "      <td>2.0</td>\n",
       "      <td>8.0</td>\n",
       "      <td>8.0</td>\n",
       "    </tr>\n",
       "  </tbody>\n",
       "</table>\n",
       "<p>5 rows × 40 columns</p>\n",
       "</div>"
      ],
      "text/plain": [
       "       pid_p  provcd_p  urban12_p  cfps2012_age_p  cfps2012_gender_p  \\\n",
       "0  110009105      11.0        1.0            28.0                1.0   \n",
       "1  110009107      11.0        1.0            23.0                1.0   \n",
       "2  110013103      11.0        1.0            18.0                1.0   \n",
       "3  110015107      11.0        1.0            24.0                1.0   \n",
       "4  110020103      11.0        1.0            44.0                1.0   \n",
       "\n",
       "   qn401_s_1_p  qa301_p  wc01_p  employ_p  qp201_p  ...  qp201_f  edu2012_f  \\\n",
       "0         78.0      3.0     0.0       1.0      3.0  ...      2.0        4.0   \n",
       "1         78.0      3.0     0.0       0.0      3.0  ...      4.0        1.0   \n",
       "2          6.0      3.0     1.0       8.0      4.0  ...      3.0        3.0   \n",
       "3         78.0      3.0     0.0       8.0      2.0  ...      4.0        4.0   \n",
       "4         78.0      3.0     0.0       8.0      4.0  ...      3.0        2.0   \n",
       "\n",
       "   eduy2012_f  income_f  income_adj_f  income_12_f  income_adj_12_f  \\\n",
       "0        12.0   15000.0       15000.0      15000.0          15000.0   \n",
       "1         0.0       0.0           0.0          0.0              0.0   \n",
       "2         9.0   26000.0       26000.0      26000.0          26000.0   \n",
       "3        12.0   30000.0       30000.0      30000.0          30000.0   \n",
       "4         6.0   38400.0       38400.0      38400.0          38400.0   \n",
       "\n",
       "   cfps2012edu_f  cfps2012eduy_f  cfps2012eduy_im_f  \n",
       "0            4.0            12.0               12.0  \n",
       "1            1.0             NaN                6.0  \n",
       "2            3.0             9.0                9.0  \n",
       "3            4.0            12.0               12.0  \n",
       "4            2.0             8.0                8.0  \n",
       "\n",
       "[5 rows x 40 columns]"
      ]
     },
     "execution_count": 25,
     "metadata": {},
     "output_type": "execute_result"
    }
   ],
   "source": [
    "# 数据匹配，需要匹配两次，分别获取个人详细信息和父亲详细信息\n",
    "# 获取个人信息\n",
    "# 先匹配跨年库中的相关变量\n",
    "df1=pd.merge(df1,df3[['pid','INCOME_12','INCOME_ADJ_12','cfps2012edu',\n",
    "'cfps2012eduy','cfps2012eduy_im']],on='pid',how='left')\n",
    "'''\n",
    "qa301：现在的户口状况\n",
    "wc01：上学状态\n",
    "employ：当前工作状态\n",
    "QN401_S_1：您是哪些组织成员，党员为1，其余的后面设为0，剔除缺失\n",
    "QP201：健康状况\n",
    "edu2012：最高学历\n",
    "eduy2012:受教育年限\n",
    "cfps2012edu:最高学历\n",
    "cfps2012eduy：受教育年限(2012跨年库中)\n",
    "cfps2012eduy_im：受教育年限插补\n",
    "income：总收入\n",
    "'''\n",
    "df1_1=df1[['pid','provcd','urban12','CFPS2012_AGE','CFPS2012_GENDER','QN401_S_1',\n",
    "           'QA301','WC01','EMPLOY','QP201','edu2012','eduy2012','INCOME','income_adj',\n",
    "          'INCOME_12','INCOME_ADJ_12','cfps2012edu','cfps2012eduy','cfps2012eduy_im']]\n",
    "merge1=pd.merge(df1_1,df2_2,on='pid')\n",
    "merge1.rename(columns={'pid_f':'fpid'},inplace=True)# 避免merge产生重复列\n",
    "# 获取父亲信息\n",
    "merge2=pd.merge(merge1,df1_1,left_on='fpid',right_on='pid',suffixes=['_p','_f'])\n",
    "merge2.drop(['fpid'],axis=1,inplace=True)\n",
    "# 将列名全改为小写，方便后续操作\n",
    "for x in merge2.columns.values:\n",
    "    merge2.rename(columns={x:x.lower()},inplace=True)\n",
    "# 匹配了8313\n",
    "merge2.head()"
   ]
  },
  {
   "cell_type": "code",
   "execution_count": 26,
   "metadata": {},
   "outputs": [
    {
     "data": {
      "text/plain": [
       "8313"
      ]
     },
     "execution_count": 26,
     "metadata": {},
     "output_type": "execute_result"
    }
   ],
   "source": [
    "len(merge2)"
   ]
  },
  {
   "cell_type": "code",
   "execution_count": 27,
   "metadata": {},
   "outputs": [],
   "source": [
    "# 筛选子辈年龄16-45,父辈年龄36-65,父子年龄差小于16(异常样本) 暂定这个范围\n",
    "res1=merge2\n",
    "index2=np.where((res1.cfps2012_age_p<16)|(res1.cfps2012_age_p>45))[0]\n",
    "index3=np.where((res1.cfps2012_age_f<36)|(res1.cfps2012_age_f>65))[0]\n",
    "res1['age_dif']=res1['cfps2012_age_f']-res1['cfps2012_age_p']\n",
    "index4=np.where(res1['age_dif']<10)[0]\n",
    "res2=res1.drop(list(index2)+list(index3)+list(index4))\n",
    "# 剩余7195\n",
    "res2.reset_index(drop=True,inplace=True)"
   ]
  },
  {
   "cell_type": "code",
   "execution_count": 29,
   "metadata": {},
   "outputs": [],
   "source": [
    "# 筛选已离开学校wc01_p=0，不要在职学生的数据（数据量比较小，且收入误差可能较大）\n",
    "# school employ\n",
    "# 注意需要用& |,用and,or会报错,&的优先级比==高,\n",
    "index5=np.where((res2.wc01_p==0) & (res2.employ_p==1))[0]\n",
    "res3=res2.loc[index5,:]\n",
    "# 剩余5423\n",
    "res3.reset_index(drop=True,inplace=True)"
   ]
  },
  {
   "cell_type": "code",
   "execution_count": 32,
   "metadata": {},
   "outputs": [],
   "source": [
    "# 用2016跨年库中的income_adj_12对收入进行插补\n",
    "res3['income_adj_p']=res3.apply(lambda x:x['income_adj_12_p'] if ((np.isnan(x['income_adj_p']))|(x['income_adj_p']==-8)|(x['income_adj_p']==0))\n",
    "                            else x['income_adj_p'],axis=1)\n",
    "res3['income_adj_f']=res3.apply(lambda x:x['income_adj_12_f'] if ((np.isnan(x['income_adj_f']))|(x['income_adj_f']==-8)|(x['income_adj_f']==0))\n",
    "                            else x['income_adj_f'],axis=1)"
   ]
  },
  {
   "cell_type": "code",
   "execution_count": 33,
   "metadata": {},
   "outputs": [],
   "source": [
    "# 剔除收入为空，或为-8,0的样本数据，以income_adj为标准\n",
    "# 由于income_adj数据质量更好，使用该变量，删除income，并将income_adj进行更名\n",
    "res3.drop(['income_p','income_f'],axis=1,inplace=True)\n",
    "res3.rename(columns={'income_adj_p':'income_p','income_adj_f':'income_f'},inplace=True)\n",
    "res4=res3.dropna(subset=['income_p','income_f']).reset_index(drop=True) # 剔除缺失值\n",
    "index7=np.where((res4['income_p'].isin([-8,0]))|(res4['income_f'].isin([-8,0])))[0] # 剔除收入不适用和为0的数据\n",
    "# index7=np.where((res4['income_p']==-8)|(res4['income_f']==-8))[0]\n",
    "res5=res4.drop(index7) # 剩1617\n",
    "res5.reset_index(drop=True,inplace=True)"
   ]
  },
  {
   "cell_type": "code",
   "execution_count": 35,
   "metadata": {},
   "outputs": [
    {
     "data": {
      "text/plain": [
       "1617"
      ]
     },
     "execution_count": 35,
     "metadata": {},
     "output_type": "execute_result"
    }
   ],
   "source": [
    "len(res5)"
   ]
  },
  {
   "cell_type": "code",
   "execution_count": 40,
   "metadata": {},
   "outputs": [],
   "source": [
    "def eduy(x):\n",
    "    if x==1:\n",
    "        return 0\n",
    "    elif x==2:\n",
    "        return 6\n",
    "    elif x==3:\n",
    "        return 9\n",
    "    elif x==4:\n",
    "        return 12\n",
    "    elif x==5:\n",
    "        return 15\n",
    "    elif x==6:\n",
    "        return 16\n",
    "    elif x==7:\n",
    "        return 19\n",
    "    elif x==8:\n",
    "        return 22"
   ]
  },
  {
   "cell_type": "code",
   "execution_count": 60,
   "metadata": {},
   "outputs": [],
   "source": [
    "# 查看学历是否需要插补\n",
    "# 先把所有-9（缺失）替换为NA\n",
    "# 插补后记得剔除edu为0的，表示没有数据\n",
    "res6=res5.copy()\n",
    "res6['eduy2012_p']=res6.apply(lambda x:x['cfps2012eduy_im_p'] if x['cfps2012eduy_im_p']>x['eduy2012_p'] else x['eduy2012_p'],axis=1)\n",
    "res6['eduy2012_f']=res6.apply(lambda x:x['cfps2012eduy_im_f'] if x['cfps2012eduy_im_f']>x['eduy2012_f'] else x['eduy2012_f'],axis=1)\n",
    "res6['edu2012_p']=res6.apply(lambda x:x['cfps2012edu_p'] if x['cfps2012edu_p']>x['edu2012_p'] else x['edu2012_p'],axis=1)\n",
    "res6['edu2012_f']=res6.apply(lambda x:x['cfps2012edu_f'] if x['cfps2012edu_f']>x['edu2012_f'] else x['edu2012_f'],axis=1)\n",
    "res6['edu2012_p']=res6.apply(lambda x:x['tb4_a12_p'] if ((np.isnan(x['edu2012_p']))|(x['edu2012_p']==-1)) else x['edu2012_p'],axis=1)\n",
    "res6['edu2012_f']=res6.apply(lambda x:x['tb4_a12_f'] if ((np.isnan(x['edu2012_f']))|(x['edu2012_f']==-1)) else x['edu2012_f'],axis=1)\n",
    "res6['eduy2012_p']=res6.apply(lambda x:eduy(x['edu2012_p']) if ((np.isnan(x['eduy2012_p']))|(x['eduy2012_p']==-1)) else x['eduy2012_p'],axis=1)\n",
    "res6['eduy2012_f']=res6.apply(lambda x:eduy(x['edu2012_f']) if ((np.isnan(x['eduy2012_f']))|(x['eduy2012_f']==-1)) else x['eduy2012_f'],axis=1)\n",
    "res6.drop(['cfps2012eduy_im_p','cfps2012eduy_im_f','cfps2012edu_p','cfps2012edu_f','cfps2012eduy_p','cfps2012eduy_f'],axis=1,inplace=True)"
   ]
  },
  {
   "cell_type": "code",
   "execution_count": 36,
   "metadata": {},
   "outputs": [
    {
     "data": {
      "image/png": "[encoded data removed]",
      "text/plain": [
       "<Figure size 864x360 with 2 Axes>"
      ]
     },
     "metadata": {
      "needs_background": "light"
     },
     "output_type": "display_data"
    }
   ],
   "source": [
    "# 子代收入分布情况\n",
    "fig_p = plt.figure(figsize=(12,5))\n",
    "ax1_p = fig_p.add_subplot(121)\n",
    "ax2_p=fig_p.add_subplot(122)\n",
    "ax1_p.hist(res5['income_p'],bins=10)\n",
    "ax2_p.boxplot(res5['income_p'])\n",
    "fig_p.tight_layout()\n",
    "plt.show()"
   ]
  },
  {
   "cell_type": "code",
   "execution_count": 35,
   "metadata": {},
   "outputs": [
    {
     "data": {
      "image/png": "[encoded data removed]",
      "text/plain": [
       "<Figure size 864x360 with 2 Axes>"
      ]
     },
     "metadata": {
      "needs_background": "light"
     },
     "output_type": "display_data"
    }
   ],
   "source": [
    "# 父代收入分布情况\n",
    "fig_f = plt.figure(figsize=(12,5))\n",
    "ax1_f = fig_f.add_subplot(121)\n",
    "ax2_f=fig_f.add_subplot(122)\n",
    "ax1_f.hist(res5['income_f'],bins=10)\n",
    "ax2_f.boxplot(res5['income_f'])\n",
    "fig_f.tight_layout()\n",
    "plt.show()"
   ]
  },
  {
   "cell_type": "code",
   "execution_count": 61,
   "metadata": {},
   "outputs": [
    {
     "data": {
      "text/html": [
       "<div>\n",
       "<style scoped>\n",
       "    .dataframe tbody tr th:only-of-type {\n",
       "        vertical-align: middle;\n",
       "    }\n",
       "\n",
       "    .dataframe tbody tr th {\n",
       "        vertical-align: top;\n",
       "    }\n",
       "\n",
       "    .dataframe thead th {\n",
       "        text-align: right;\n",
       "    }\n",
       "</style>\n",
       "<table border=\"1\" class=\"dataframe\">\n",
       "  <thead>\n",
       "    <tr style=\"text-align: right;\">\n",
       "      <th></th>\n",
       "      <th>100%max</th>\n",
       "      <th>99%</th>\n",
       "      <th>95%</th>\n",
       "      <th>90%</th>\n",
       "      <th>75%</th>\n",
       "      <th>50%</th>\n",
       "      <th>25%</th>\n",
       "      <th>10%</th>\n",
       "      <th>5%</th>\n",
       "      <th>1%</th>\n",
       "      <th>0%min</th>\n",
       "    </tr>\n",
       "  </thead>\n",
       "  <tbody>\n",
       "    <tr>\n",
       "      <th>0</th>\n",
       "      <td>1200000.0</td>\n",
       "      <td>152150.4</td>\n",
       "      <td>72080.0</td>\n",
       "      <td>55000.0</td>\n",
       "      <td>36960.0</td>\n",
       "      <td>24000.0</td>\n",
       "      <td>15056.0</td>\n",
       "      <td>8000.0</td>\n",
       "      <td>4000.0</td>\n",
       "      <td>1200.0</td>\n",
       "      <td>1.0</td>\n",
       "    </tr>\n",
       "    <tr>\n",
       "      <th>1</th>\n",
       "      <td>241092.0</td>\n",
       "      <td>104958.4</td>\n",
       "      <td>54336.0</td>\n",
       "      <td>40859.2</td>\n",
       "      <td>30000.0</td>\n",
       "      <td>18120.0</td>\n",
       "      <td>10000.0</td>\n",
       "      <td>4000.0</td>\n",
       "      <td>2000.0</td>\n",
       "      <td>732.8</td>\n",
       "      <td>4.0</td>\n",
       "    </tr>\n",
       "  </tbody>\n",
       "</table>\n",
       "</div>"
      ],
      "text/plain": [
       "     100%max       99%      95%      90%      75%      50%      25%     10%  \\\n",
       "0  1200000.0  152150.4  72080.0  55000.0  36960.0  24000.0  15056.0  8000.0   \n",
       "1   241092.0  104958.4  54336.0  40859.2  30000.0  18120.0  10000.0  4000.0   \n",
       "\n",
       "       5%      1%  0%min  \n",
       "0  4000.0  1200.0    1.0  \n",
       "1  2000.0   732.8    4.0  "
      ]
     },
     "execution_count": 61,
     "metadata": {},
     "output_type": "execute_result"
    }
   ],
   "source": [
    "# 计算收入的分位数\n",
    "tmp_inp=np.array(res5['income_p'])\n",
    "tmp_inf=np.array(res5['income_f'])\n",
    "per_p=[np.percentile(tmp_inp,x) for x in [100,99,95,90,75,50,25,10,5,1,0]]\n",
    "per_f=[np.percentile(tmp_inf,x) for x in [100,99,95,90,75,50,25,10,5,1,0]]\n",
    "col_name=['100%max','99%','95%','90%','75%','50%','25%','10%','5%','1%','0%min']\n",
    "pd.DataFrame([per_p,per_f],columns=col_name)"
   ]
  },
  {
   "cell_type": "code",
   "execution_count": 37,
   "metadata": {},
   "outputs": [],
   "source": [
    "# 剔除首尾1%的极端数据，89条\n",
    "# index8=np.where((res5.income_p<=np.percentile(tmp_inp,1))|(res5.income_p>=np.percentile(tmp_inp,99))|\n",
    "#                (res5.income_f<=np.percentile(tmp_inf,1))|(res5.income_f>=np.percentile(tmp_inf,99)))[0]\n",
    "# res6=res5.drop(index8)# 剩2091\n",
    "# res6.reset_index(drop=True,inplace=True)"
   ]
  },
  {
   "cell_type": "code",
   "execution_count": 53,
   "metadata": {},
   "outputs": [
    {
     "data": {
      "text/plain": [
       "1617"
      ]
     },
     "execution_count": 53,
     "metadata": {},
     "output_type": "execute_result"
    }
   ],
   "source": [
    "len(res6)"
   ]
  },
  {
   "cell_type": "code",
   "execution_count": 62,
   "metadata": {},
   "outputs": [
    {
     "data": {
      "text/html": [
       "<div>\n",
       "<style scoped>\n",
       "    .dataframe tbody tr th:only-of-type {\n",
       "        vertical-align: middle;\n",
       "    }\n",
       "\n",
       "    .dataframe tbody tr th {\n",
       "        vertical-align: top;\n",
       "    }\n",
       "\n",
       "    .dataframe thead th {\n",
       "        text-align: right;\n",
       "    }\n",
       "</style>\n",
       "<table border=\"1\" class=\"dataframe\">\n",
       "  <thead>\n",
       "    <tr style=\"text-align: right;\">\n",
       "      <th></th>\n",
       "      <th>edu2012_p</th>\n",
       "      <th>eduy2012_p</th>\n",
       "      <th>edu2012_f</th>\n",
       "      <th>eduy2012_f</th>\n",
       "    </tr>\n",
       "  </thead>\n",
       "  <tbody>\n",
       "    <tr>\n",
       "      <th>count</th>\n",
       "      <td>1617.000000</td>\n",
       "      <td>1617.000000</td>\n",
       "      <td>1617.000000</td>\n",
       "      <td>1617.000000</td>\n",
       "    </tr>\n",
       "    <tr>\n",
       "      <th>mean</th>\n",
       "      <td>3.672233</td>\n",
       "      <td>11.126160</td>\n",
       "      <td>2.605442</td>\n",
       "      <td>7.840445</td>\n",
       "    </tr>\n",
       "    <tr>\n",
       "      <th>std</th>\n",
       "      <td>1.319664</td>\n",
       "      <td>3.315343</td>\n",
       "      <td>1.116448</td>\n",
       "      <td>3.760368</td>\n",
       "    </tr>\n",
       "    <tr>\n",
       "      <th>min</th>\n",
       "      <td>1.000000</td>\n",
       "      <td>0.000000</td>\n",
       "      <td>1.000000</td>\n",
       "      <td>0.000000</td>\n",
       "    </tr>\n",
       "    <tr>\n",
       "      <th>25%</th>\n",
       "      <td>3.000000</td>\n",
       "      <td>9.000000</td>\n",
       "      <td>2.000000</td>\n",
       "      <td>6.000000</td>\n",
       "    </tr>\n",
       "    <tr>\n",
       "      <th>50%</th>\n",
       "      <td>3.000000</td>\n",
       "      <td>11.000000</td>\n",
       "      <td>3.000000</td>\n",
       "      <td>9.000000</td>\n",
       "    </tr>\n",
       "    <tr>\n",
       "      <th>75%</th>\n",
       "      <td>5.000000</td>\n",
       "      <td>15.000000</td>\n",
       "      <td>3.000000</td>\n",
       "      <td>9.000000</td>\n",
       "    </tr>\n",
       "    <tr>\n",
       "      <th>max</th>\n",
       "      <td>7.000000</td>\n",
       "      <td>19.000000</td>\n",
       "      <td>6.000000</td>\n",
       "      <td>16.000000</td>\n",
       "    </tr>\n",
       "  </tbody>\n",
       "</table>\n",
       "</div>"
      ],
      "text/plain": [
       "         edu2012_p   eduy2012_p    edu2012_f   eduy2012_f\n",
       "count  1617.000000  1617.000000  1617.000000  1617.000000\n",
       "mean      3.672233    11.126160     2.605442     7.840445\n",
       "std       1.319664     3.315343     1.116448     3.760368\n",
       "min       1.000000     0.000000     1.000000     0.000000\n",
       "25%       3.000000     9.000000     2.000000     6.000000\n",
       "50%       3.000000    11.000000     3.000000     9.000000\n",
       "75%       5.000000    15.000000     3.000000     9.000000\n",
       "max       7.000000    19.000000     6.000000    16.000000"
      ]
     },
     "execution_count": 62,
     "metadata": {},
     "output_type": "execute_result"
    }
   ],
   "source": [
    "res6.filter(regex='edu').describe()"
   ]
  },
  {
   "cell_type": "code",
   "execution_count": 70,
   "metadata": {},
   "outputs": [
    {
     "data": {
      "text/plain": [
       "['pid_p',\n",
       " 'provcd_p',\n",
       " 'urban12_p',\n",
       " 'cfps2012_age_p',\n",
       " 'cfps2012_gender_p',\n",
       " 'qn401_s_1_p',\n",
       " 'qa301_p',\n",
       " 'wc01_p',\n",
       " 'employ_p',\n",
       " 'qp201_p',\n",
       " 'edu2012_p',\n",
       " 'eduy2012_p',\n",
       " 'income_p',\n",
       " 'tb4_a12_p',\n",
       " 'tb4_a12_f',\n",
       " 'pid_f',\n",
       " 'provcd_f',\n",
       " 'urban12_f',\n",
       " 'cfps2012_age_f',\n",
       " 'cfps2012_gender_f',\n",
       " 'qn401_s_1_f',\n",
       " 'qa301_f',\n",
       " 'wc01_f',\n",
       " 'employ_f',\n",
       " 'qp201_f',\n",
       " 'edu2012_f',\n",
       " 'eduy2012_f',\n",
       " 'income_f',\n",
       " 'age_dif',\n",
       " 'year']"
      ]
     },
     "execution_count": 70,
     "metadata": {},
     "output_type": "execute_result"
    }
   ],
   "source": [
    "res7.columns.values.tolist()"
   ]
  },
  {
   "cell_type": "code",
   "execution_count": 117,
   "metadata": {},
   "outputs": [],
   "source": [
    "# 根据其他相关变量剔除样本，包括缺失、不适用等\n",
    "res7=res6.dropna(subset=['provcd_p','provcd_f','urban12_p','urban12_f','qa301_p','qa301_f',\n",
    "                         'edu2012_p','edu2012_f','eduy2012_p','eduy2012_f','cfps2012_gender_p','cfps2012_gender_f',\n",
    "                         'qp201_p','qp201_f','qn401_s_1_p','qn401_s_1_f']).reset_index(drop=True)\n",
    "index9=np.where((res7.urban12_p==-9)|(res7.urban12_f==-9)|(res7.provcd_p==-9)|(res7.provcd_f==-9)|\n",
    "            (res7.qa301_p.isin([-1,-2,5,79]))|(res7.qa301_f.isin([-1,-2,5,79]))|(res7.cfps2012_gender_p==-8)|\n",
    "            (res7.cfps2012_gender_f==-8)|(res7.qn401_s_1_p.isin([-1,-8]))|(res7.qn401_s_1_p.isin([-1,-8]))|\n",
    "            (res7.qp201_p.isin([-1,-2,-8]))|(res7.qp201_f.isin([-1,-2,-8])))[0]\n",
    "res7.drop(index9,inplace=True)\n",
    "res7.reset_index(drop=True,inplace=True)# 剩1070\n",
    "res7['year']=2012"
   ]
  },
  {
   "cell_type": "code",
   "execution_count": 118,
   "metadata": {},
   "outputs": [],
   "source": [
    "# 处理政治身份，党员为1，其余为0\n",
    "res7['qn401_s_1_p']=res7.apply(lambda x:1 if x['qn401_s_1_p']==1 else 0,axis=1)\n",
    "res7['qn401_s_1_f']=res7.apply(lambda x:1 if x['qn401_s_1_f']==1 else 0,axis=1)"
   ]
  },
  {
   "cell_type": "code",
   "execution_count": 119,
   "metadata": {},
   "outputs": [
    {
     "data": {
      "text/plain": [
       "1313"
      ]
     },
     "execution_count": 119,
     "metadata": {},
     "output_type": "execute_result"
    }
   ],
   "source": [
    "len(res7)"
   ]
  },
  {
   "cell_type": "code",
   "execution_count": 102,
   "metadata": {},
   "outputs": [
    {
     "data": {
      "text/plain": [
       "provcd_p\n",
       "11.0     11\n",
       "12.0     12\n",
       "13.0     76\n",
       "14.0     57\n",
       "21.0    115\n",
       "22.0     18\n",
       "23.0     31\n",
       "31.0    148\n",
       "32.0     47\n",
       "33.0     31\n",
       "34.0     34\n",
       "35.0     19\n",
       "36.0     28\n",
       "37.0     58\n",
       "41.0    216\n",
       "42.0     15\n",
       "43.0     34\n",
       "44.0    129\n",
       "45.0     21\n",
       "50.0      7\n",
       "51.0     45\n",
       "52.0     18\n",
       "53.0     27\n",
       "61.0     22\n",
       "62.0     94\n",
       "Name: pid_p, dtype: int64"
      ]
     },
     "execution_count": 102,
     "metadata": {},
     "output_type": "execute_result"
    }
   ],
   "source": [
    "res7.groupby('provcd_p')['pid_p'].size()"
   ]
  },
  {
   "cell_type": "code",
   "execution_count": 120,
   "metadata": {},
   "outputs": [],
   "source": [
    "# 计算收入阶层\n",
    "def per_num(x,tmp):\n",
    "    '''\n",
    "    x:income\n",
    "    tmp:array(income)\n",
    "    '''\n",
    "    if x<=np.percentile(tmp,20):\n",
    "        return 1\n",
    "    elif np.percentile(tmp,20)<x<=np.percentile(tmp,40):\n",
    "        return 2\n",
    "    elif np.percentile(tmp,40)<x<=np.percentile(tmp,60):\n",
    "        return 3\n",
    "    elif np.percentile(tmp,60)<x<=np.percentile(tmp,80):\n",
    "        return 4\n",
    "    else:\n",
    "        return 5\n",
    "\n",
    "res7['rank_p']=res7['income_p'].map(lambda x:per_num(x,tmp_inp))\n",
    "res7['rank_f']=res7['income_f'].map(lambda x:per_num(x,tmp_inf))\n",
    "# 收入阶层流动\n",
    "res7['rank_flow']=res7.apply(lambda x:1 if x['rank_p']>x['rank_f'] else (-1 if x['rank_p']<x['rank_f'] else 0),axis=1)"
   ]
  },
  {
   "cell_type": "code",
   "execution_count": 121,
   "metadata": {},
   "outputs": [
    {
     "data": {
      "text/plain": [
       "rank_p\n",
       "1    270\n",
       "2    262\n",
       "3    249\n",
       "4    281\n",
       "5    251\n",
       "Name: pid_p, dtype: int64"
      ]
     },
     "execution_count": 121,
     "metadata": {},
     "output_type": "execute_result"
    }
   ],
   "source": [
    "res7.groupby('rank_p')['pid_p'].size()"
   ]
  },
  {
   "cell_type": "code",
   "execution_count": 77,
   "metadata": {},
   "outputs": [
    {
     "data": {
      "text/plain": [
       "rank_f\n",
       "1    246\n",
       "2    294\n",
       "3    232\n",
       "4    267\n",
       "5    274\n",
       "Name: pid_f, dtype: int64"
      ]
     },
     "execution_count": 77,
     "metadata": {},
     "output_type": "execute_result"
    }
   ],
   "source": [
    "res7.groupby('rank_f')['pid_f'].size()"
   ]
  },
  {
   "cell_type": "code",
   "execution_count": 78,
   "metadata": {},
   "outputs": [
    {
     "data": {
      "text/plain": [
       "rank_flow\n",
       "-1    503\n",
       " 0    325\n",
       " 1    485\n",
       "dtype: int64"
      ]
     },
     "execution_count": 78,
     "metadata": {},
     "output_type": "execute_result"
    }
   ],
   "source": [
    "res7.groupby('rank_flow').size()"
   ]
  },
  {
   "cell_type": "code",
   "execution_count": 79,
   "metadata": {},
   "outputs": [
    {
     "data": {
      "text/plain": [
       "urban12_f\n",
       "0.0    644\n",
       "1.0    669\n",
       "dtype: int64"
      ]
     },
     "execution_count": 79,
     "metadata": {},
     "output_type": "execute_result"
    }
   ],
   "source": [
    "res7.groupby('urban12_f').size()"
   ]
  },
  {
   "cell_type": "code",
   "execution_count": 116,
   "metadata": {
    "scrolled": false
   },
   "outputs": [
    {
     "data": {
      "text/plain": [
       "['pid_p',\n",
       " 'provcd_p',\n",
       " 'urban_p',\n",
       " 'age_p',\n",
       " 'gender_p',\n",
       " 'party_p',\n",
       " 'hukou_p',\n",
       " 'school_p',\n",
       " 'employ_p',\n",
       " 'heal_p',\n",
       " 'edu_p',\n",
       " 'eduy_p',\n",
       " 'income_p',\n",
       " 'pid_f',\n",
       " 'provcd_f',\n",
       " 'urban_f',\n",
       " 'age_f',\n",
       " 'gender_f',\n",
       " 'party_f',\n",
       " 'hukou_f',\n",
       " 'school_f',\n",
       " 'employ_f',\n",
       " 'heal_f',\n",
       " 'edu_f',\n",
       " 'eduy_f',\n",
       " 'income_f',\n",
       " 'age_dif',\n",
       " 'year',\n",
       " 'rank_p',\n",
       " 'rank_f',\n",
       " 'rank_flow',\n",
       " 'rank_dif',\n",
       " 'p_city_pro',\n",
       " 'expend_farm_pro',\n",
       " 'expend_edu_pro',\n",
       " 'exp_GDP_pro',\n",
       " 'birth_rate',\n",
       " 'pGDP',\n",
       " 'cpi']"
      ]
     },
     "execution_count": 116,
     "metadata": {},
     "output_type": "execute_result"
    }
   ],
   "source": [
    "res7.columns.values.tolist()"
   ]
  },
  {
   "cell_type": "code",
   "execution_count": 122,
   "metadata": {},
   "outputs": [],
   "source": [
    "res7.rename(columns={'urban12_p':'urban_p','urban12_f':'urban_f','cfps2012_age_p':'age_p',\n",
    "                    'cfps2012_age_f':'age_f','cfps2012_gender_p':'gender_p','cfps2012_gender_f':'gender_f','qa301_p':'hukou_p','qa301_f':'hukou_f',\n",
    "                   'edu2012_p':'edu_p','edu2012_f':'edu_f','wc01_p':'school_p','wc01_f':'school_f',\n",
    "                    'eduy2012_p':'eduy_p','eduy2012_f':'eduy_f','qp201_p':'heal_p','qp201_f':'heal_f',\n",
    "                    'qn401_s_1_p':'party_p','qn401_s_1_f':'party_f'},inplace=True)"
   ]
  },
  {
   "cell_type": "code",
   "execution_count": 123,
   "metadata": {},
   "outputs": [],
   "source": [
    "res7.drop(['income_12_p','income_12_f','income_adj_12_p','income_adj_12_f','tb4_a12_p','tb4_a12_f'],axis=1,inplace=True)"
   ]
  },
  {
   "cell_type": "code",
   "execution_count": 124,
   "metadata": {},
   "outputs": [],
   "source": [
    "# 户口\n",
    "res7[['hukou_p','hukou_f']]=res7[['hukou_p','hukou_f']].apply(lambda x:x.replace(3,0))\n",
    "res7['rank_dif']=res7['rank_p']-res7['rank_f']"
   ]
  },
  {
   "cell_type": "code",
   "execution_count": 125,
   "metadata": {},
   "outputs": [],
   "source": [
    "p_city_pro=pd.read_csv('data result/p_city_pro.csv',encoding='GBK',index_col=0).reset_index()\n",
    "expend_farm_pro=pd.read_csv('data result/expend_farm_pro.csv',encoding='GBK',index_col=0).reset_index()\n",
    "expend_edu_pro=pd.read_csv('data result/expend_edu_pro.csv',encoding='GBK',index_col=0).reset_index()\n",
    "exp_GDP_pro=pd.read_csv('data result/exp_GDP_pro.csv',encoding='GBK',index_col=0).reset_index()\n",
    "province=pd.read_csv('data result/province.csv',encoding='GBK')\n",
    "birth_rate=pd.read_csv('data result/birth_rate.csv',encoding='GBK',index_col=0).reset_index()\n",
    "cpi=pd.read_csv('data result/各省CPI_2010基期.csv',encoding='GBK',index_col=0).reset_index()\n",
    "pGDP=pd.read_csv('data result/各省人均GDP.csv',encoding='GBK',index_col=0).reset_index()"
   ]
  },
  {
   "cell_type": "code",
   "execution_count": 126,
   "metadata": {},
   "outputs": [],
   "source": [
    "p_city_pro=province.merge(p_city_pro,left_on='Label',right_on='index').drop(['Label','index'],axis=1)\n",
    "expend_edu_pro=province.merge(expend_edu_pro,left_on='Label',right_on='index').drop(['Label','index'],axis=1)\n",
    "expend_farm_pro=province.merge(expend_farm_pro,left_on='Label',right_on='index').drop(['Label','index'],axis=1)\n",
    "exp_GDP_pro=province.merge(exp_GDP_pro,left_on='Label',right_on='index').drop(['Label','index'],axis=1)\n",
    "birth_rate=province.merge(birth_rate,left_on='Label',right_on='index').drop(['Label','index'],axis=1)\n",
    "cpi=province.merge(cpi,left_on='Label',right_on='index').drop(['Label','index'],axis=1)\n",
    "pGDP=province.merge(pGDP,left_on='Label',right_on='index').drop(['Label','index'],axis=1)"
   ]
  },
  {
   "cell_type": "code",
   "execution_count": 127,
   "metadata": {},
   "outputs": [],
   "source": [
    "# 将人均GDP调整到2010年的不变价格\n",
    "col=['2010','2011','2012','2013','2014','2015','2016']\n",
    "for i in col:\n",
    "    pGDP[i]=pGDP[i]/cpi[i]"
   ]
  },
  {
   "cell_type": "code",
   "execution_count": 129,
   "metadata": {},
   "outputs": [],
   "source": [
    "res7=res7.merge(p_city_pro[['No','2012']],left_on='provcd_p',right_on='No').rename(columns={'2012':'p_city_pro'}).drop('No',axis=1)\n",
    "res7=res7.merge(expend_farm_pro[['No','2012']],left_on='provcd_p',right_on='No').rename(columns={'2012':'expend_farm_pro'}).drop('No',axis=1)\n",
    "res7=res7.merge(expend_edu_pro[['No','2012']],left_on='provcd_p',right_on='No').rename(columns={'2012':'expend_edu_pro'}).drop('No',axis=1)\n",
    "res7=res7.merge(exp_GDP_pro[['No','2012']],left_on='provcd_p',right_on='No').rename(columns={'2012':'exp_GDP_pro'}).drop('No',axis=1)\n",
    "res7=res7.merge(birth_rate[['No','2012']],left_on='provcd_p',right_on='No').rename(columns={'2012':'birth_rate'}).drop('No',axis=1)\n",
    "res7=res7.merge(pGDP[['No','2012']],left_on='provcd_p',right_on='No').rename(columns={'2012':'pGDP'}).drop('No',axis=1)\n",
    "res7=res7.merge(cpi[['No','2012']],left_on='provcd_p',right_on='No').rename(columns={'2012':'cpi'}).drop('No',axis=1)"
   ]
  },
  {
   "cell_type": "code",
   "execution_count": 130,
   "metadata": {},
   "outputs": [],
   "source": [
    "# 2010年为基期，调整为不变价格\n",
    "res7[['income_p','income_f']]=res7.apply(lambda x:x[['income_p','income_f']]/x['cpi'],axis=1)"
   ]
  },
  {
   "cell_type": "code",
   "execution_count": 131,
   "metadata": {},
   "outputs": [],
   "source": [
    "res7.to_csv('data result/model2012.csv',index=False)"
   ]
  },
  {
   "cell_type": "code",
   "execution_count": 98,
   "metadata": {},
   "outputs": [
    {
     "data": {
      "text/html": [
       "<div>\n",
       "<style scoped>\n",
       "    .dataframe tbody tr th:only-of-type {\n",
       "        vertical-align: middle;\n",
       "    }\n",
       "\n",
       "    .dataframe tbody tr th {\n",
       "        vertical-align: top;\n",
       "    }\n",
       "\n",
       "    .dataframe thead th {\n",
       "        text-align: right;\n",
       "    }\n",
       "</style>\n",
       "<table border=\"1\" class=\"dataframe\">\n",
       "  <thead>\n",
       "    <tr style=\"text-align: right;\">\n",
       "      <th></th>\n",
       "      <th>hukou_p</th>\n",
       "      <th>hukou_f</th>\n",
       "    </tr>\n",
       "  </thead>\n",
       "  <tbody>\n",
       "    <tr>\n",
       "      <th>count</th>\n",
       "      <td>1313.000000</td>\n",
       "      <td>1313.000000</td>\n",
       "    </tr>\n",
       "    <tr>\n",
       "      <th>mean</th>\n",
       "      <td>1.702209</td>\n",
       "      <td>1.650419</td>\n",
       "    </tr>\n",
       "    <tr>\n",
       "      <th>std</th>\n",
       "      <td>0.954995</td>\n",
       "      <td>0.937263</td>\n",
       "    </tr>\n",
       "    <tr>\n",
       "      <th>min</th>\n",
       "      <td>1.000000</td>\n",
       "      <td>1.000000</td>\n",
       "    </tr>\n",
       "    <tr>\n",
       "      <th>25%</th>\n",
       "      <td>1.000000</td>\n",
       "      <td>1.000000</td>\n",
       "    </tr>\n",
       "    <tr>\n",
       "      <th>50%</th>\n",
       "      <td>1.000000</td>\n",
       "      <td>1.000000</td>\n",
       "    </tr>\n",
       "    <tr>\n",
       "      <th>75%</th>\n",
       "      <td>3.000000</td>\n",
       "      <td>3.000000</td>\n",
       "    </tr>\n",
       "    <tr>\n",
       "      <th>max</th>\n",
       "      <td>3.000000</td>\n",
       "      <td>3.000000</td>\n",
       "    </tr>\n",
       "  </tbody>\n",
       "</table>\n",
       "</div>"
      ],
      "text/plain": [
       "           hukou_p      hukou_f\n",
       "count  1313.000000  1313.000000\n",
       "mean      1.702209     1.650419\n",
       "std       0.954995     0.937263\n",
       "min       1.000000     1.000000\n",
       "25%       1.000000     1.000000\n",
       "50%       1.000000     1.000000\n",
       "75%       3.000000     3.000000\n",
       "max       3.000000     3.000000"
      ]
     },
     "execution_count": 98,
     "metadata": {},
     "output_type": "execute_result"
    }
   ],
   "source": [
    "res7.filter(regex='hukou').describe()"
   ]
  },
  {
   "cell_type": "code",
   "execution_count": null,
   "metadata": {},
   "outputs": [],
   "source": []
  }
 ],
 "metadata": {
  "kernelspec": {
   "display_name": "Python 3",
   "language": "python",
   "name": "python3"
  },
  "language_info": {
   "codemirror_mode": {
    "name": "ipython",
    "version": 3
   },
   "file_extension": ".py",
   "mimetype": "text/x-python",
   "name": "python",
   "nbconvert_exporter": "python",
   "pygments_lexer": "ipython3",
   "version": "3.7.2"
  }
 },
 "nbformat": 4,
 "nbformat_minor": 2
}
