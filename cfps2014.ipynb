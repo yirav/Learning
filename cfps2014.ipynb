{
 "cells": [
  {
   "cell_type": "code",
   "execution_count": 1,
   "metadata": {},
   "outputs": [],
   "source": [
    "import pandas as pd\n",
    "import numpy as np\n",
    "from matplotlib import pyplot as plt"
   ]
  },
  {
   "cell_type": "markdown",
   "metadata": {},
   "source": [
    "# CFPS2014"
   ]
  },
  {
   "cell_type": "code",
   "execution_count": 71,
   "metadata": {},
   "outputs": [],
   "source": [
    "# 成人问卷\n",
    "df1=pd.read_sas('CFPS2014/cfps2014adult_201906.sas7bdat')\n",
    "df1['pid']=df1['pid'].astype(int)\n",
    "# 家庭成员关系\n",
    "# 需要从中识别父亲编号pid_f，再去成人问卷中匹配父亲pid\n",
    "df2=pd.read_sas('CFPS2014/cfps2014famconf_170630.sas7bdat')\n",
    "df2[['pid','pid_f']]=df2[['pid','pid_f']].astype(int)\n",
    "# 2016年跨年库\n",
    "df3=pd.read_sas('CFPS2016/cfps2016crossyearid_201807.sas7bdat')\n",
    "df3['pid']=df3['pid'].astype(int)"
   ]
  },
  {
   "cell_type": "code",
   "execution_count": 72,
   "metadata": {},
   "outputs": [],
   "source": [
    "# describe后发现id有为负数的，视作异常样本\n",
    "# df1剔除id不在区间范围的记录\n",
    "# 删除2条\n",
    "out_df1=np.where((df1.pid<100051501)|(df1.pid>2489151502))[0]\n",
    "df1.drop(out_df1,inplace=True)\n",
    "df1.reset_index(drop=True,inplace=True)\n",
    "# df2剔除pid_f等于-8和77的样本的记录\n",
    "# 删除32844\n",
    "out_df2=np.where((df2.pid<100051501)|(df2.pid>2781941501))[0] # 查看后有4条重复记录\n",
    "index1=np.where((df2.pid_f==-8)|(df2.pid_f==77))[0]\n",
    "df2_1=df2.drop(list(out_df2)+list(index1))\n",
    "df2_1.reset_index(drop=True,inplace=True)\n",
    "# 筛选所需变量\n",
    "df2_2=df2_1[['pid','pid_f','TB4_a14_p','TB4_a14_f']]\n",
    "# 进行从个人库中匹配子代的相关信息\n",
    "# 成人库中选取相关变量\n",
    "'''\n",
    "qa301：现在的户口状况\n",
    "wc01：上学状态\n",
    "employ2014：当前工作状态\n",
    "qn401_s_1：您是哪些组织成员，党员为1，其余的后面设为0，剔除缺失\n",
    "QP201：健康状况\n",
    "cfps2014edu：最高学历\n",
    "cfps2014eduy：受教育年限\n",
    "cfps2014eduy_im：受教育年限插补\n",
    "income：总收入\n",
    "'''\n",
    "df1=pd.merge(df1,df3[['pid','INCOME_14']],on='pid',how='left')\n",
    "df1_1=df1[['pid','provcd14','urban14','CFPS2014_AGE','CFPS_GENDER','QA301',\n",
    "          'WC01','EMPLOY2014','QN401_S_1','QP201','cfps2014eduy',\n",
    "           'cfps2014eduy_im', 'cfps2014edu','INCOME','INCOME_14']]"
   ]
  },
  {
   "cell_type": "code",
   "execution_count": 73,
   "metadata": {
    "scrolled": true
   },
   "outputs": [
    {
     "name": "stderr",
     "output_type": "stream",
     "text": [
      "c:\\users\\yirav\\appdata\\local\\programs\\python\\python37\\lib\\site-packages\\ipykernel_launcher.py:5: SettingWithCopyWarning: \n",
      "A value is trying to be set on a copy of a slice from a DataFrame\n",
      "\n",
      "See the caveats in the documentation: http://pandas.pydata.org/pandas-docs/stable/indexing.html#indexing-view-versus-copy\n",
      "  \"\"\"\n"
     ]
    }
   ],
   "source": [
    "# 查看有无id重复记录\n",
    "df1_1[df1_1.pid.duplicated(keep=False)]# 无重复\n",
    "df2_2[df2_2.duplicated(subset=['pid','pid_f'])]# 有重复，保留一条\n",
    "# 由于家庭关系数据库中只关注父子id，其他变量的正确性不用在意，因此只保留一条父子id对即可\n",
    "df2_2.drop_duplicates(subset=['pid','pid_f'],keep='first',inplace=True)# 剩23299"
   ]
  },
  {
   "cell_type": "code",
   "execution_count": 74,
   "metadata": {},
   "outputs": [
    {
     "data": {
      "text/html": [
       "<div>\n",
       "<style scoped>\n",
       "    .dataframe tbody tr th:only-of-type {\n",
       "        vertical-align: middle;\n",
       "    }\n",
       "\n",
       "    .dataframe tbody tr th {\n",
       "        vertical-align: top;\n",
       "    }\n",
       "\n",
       "    .dataframe thead th {\n",
       "        text-align: right;\n",
       "    }\n",
       "</style>\n",
       "<table border=\"1\" class=\"dataframe\">\n",
       "  <thead>\n",
       "    <tr style=\"text-align: right;\">\n",
       "      <th></th>\n",
       "      <th>pid_p</th>\n",
       "      <th>provcd14_p</th>\n",
       "      <th>urban14_p</th>\n",
       "      <th>cfps2014_age_p</th>\n",
       "      <th>cfps_gender_p</th>\n",
       "      <th>qa301_p</th>\n",
       "      <th>wc01_p</th>\n",
       "      <th>employ2014_p</th>\n",
       "      <th>qn401_s_1_p</th>\n",
       "      <th>qp201_p</th>\n",
       "      <th>...</th>\n",
       "      <th>qa301_f</th>\n",
       "      <th>wc01_f</th>\n",
       "      <th>employ2014_f</th>\n",
       "      <th>qn401_s_1_f</th>\n",
       "      <th>qp201_f</th>\n",
       "      <th>cfps2014eduy_f</th>\n",
       "      <th>cfps2014eduy_im_f</th>\n",
       "      <th>cfps2014edu_f</th>\n",
       "      <th>income_f</th>\n",
       "      <th>income_14_f</th>\n",
       "    </tr>\n",
       "  </thead>\n",
       "  <tbody>\n",
       "    <tr>\n",
       "      <th>0</th>\n",
       "      <td>109137501</td>\n",
       "      <td>41.0</td>\n",
       "      <td>1.0</td>\n",
       "      <td>29.0</td>\n",
       "      <td>1.0</td>\n",
       "      <td>3.0</td>\n",
       "      <td>0.0</td>\n",
       "      <td>1.0</td>\n",
       "      <td>78.0</td>\n",
       "      <td>2.0</td>\n",
       "      <td>...</td>\n",
       "      <td>3.0</td>\n",
       "      <td>-8.0</td>\n",
       "      <td>1.0</td>\n",
       "      <td>1.0</td>\n",
       "      <td>3.0</td>\n",
       "      <td>12.0</td>\n",
       "      <td>12.0</td>\n",
       "      <td>4.0</td>\n",
       "      <td>38400.0</td>\n",
       "      <td>38400.0</td>\n",
       "    </tr>\n",
       "    <tr>\n",
       "      <th>1</th>\n",
       "      <td>110002103</td>\n",
       "      <td>11.0</td>\n",
       "      <td>1.0</td>\n",
       "      <td>20.0</td>\n",
       "      <td>0.0</td>\n",
       "      <td>3.0</td>\n",
       "      <td>1.0</td>\n",
       "      <td>-8.0</td>\n",
       "      <td>6.0</td>\n",
       "      <td>3.0</td>\n",
       "      <td>...</td>\n",
       "      <td>3.0</td>\n",
       "      <td>-8.0</td>\n",
       "      <td>1.0</td>\n",
       "      <td>78.0</td>\n",
       "      <td>2.0</td>\n",
       "      <td>12.0</td>\n",
       "      <td>12.0</td>\n",
       "      <td>4.0</td>\n",
       "      <td>0.0</td>\n",
       "      <td>2000.0</td>\n",
       "    </tr>\n",
       "    <tr>\n",
       "      <th>2</th>\n",
       "      <td>110003103</td>\n",
       "      <td>11.0</td>\n",
       "      <td>1.0</td>\n",
       "      <td>17.0</td>\n",
       "      <td>0.0</td>\n",
       "      <td>1.0</td>\n",
       "      <td>1.0</td>\n",
       "      <td>-8.0</td>\n",
       "      <td>6.0</td>\n",
       "      <td>2.0</td>\n",
       "      <td>...</td>\n",
       "      <td>1.0</td>\n",
       "      <td>0.0</td>\n",
       "      <td>1.0</td>\n",
       "      <td>78.0</td>\n",
       "      <td>1.0</td>\n",
       "      <td>12.0</td>\n",
       "      <td>12.0</td>\n",
       "      <td>4.0</td>\n",
       "      <td>-8.0</td>\n",
       "      <td>0.0</td>\n",
       "    </tr>\n",
       "    <tr>\n",
       "      <th>3</th>\n",
       "      <td>110006103</td>\n",
       "      <td>11.0</td>\n",
       "      <td>1.0</td>\n",
       "      <td>24.0</td>\n",
       "      <td>0.0</td>\n",
       "      <td>3.0</td>\n",
       "      <td>0.0</td>\n",
       "      <td>0.0</td>\n",
       "      <td>78.0</td>\n",
       "      <td>3.0</td>\n",
       "      <td>...</td>\n",
       "      <td>3.0</td>\n",
       "      <td>-8.0</td>\n",
       "      <td>1.0</td>\n",
       "      <td>5.0</td>\n",
       "      <td>3.0</td>\n",
       "      <td>11.0</td>\n",
       "      <td>11.0</td>\n",
       "      <td>3.0</td>\n",
       "      <td>-8.0</td>\n",
       "      <td>0.0</td>\n",
       "    </tr>\n",
       "    <tr>\n",
       "      <th>4</th>\n",
       "      <td>110009105</td>\n",
       "      <td>11.0</td>\n",
       "      <td>1.0</td>\n",
       "      <td>30.0</td>\n",
       "      <td>1.0</td>\n",
       "      <td>3.0</td>\n",
       "      <td>0.0</td>\n",
       "      <td>1.0</td>\n",
       "      <td>78.0</td>\n",
       "      <td>5.0</td>\n",
       "      <td>...</td>\n",
       "      <td>3.0</td>\n",
       "      <td>-8.0</td>\n",
       "      <td>1.0</td>\n",
       "      <td>78.0</td>\n",
       "      <td>3.0</td>\n",
       "      <td>12.0</td>\n",
       "      <td>12.0</td>\n",
       "      <td>4.0</td>\n",
       "      <td>-8.0</td>\n",
       "      <td>0.0</td>\n",
       "    </tr>\n",
       "  </tbody>\n",
       "</table>\n",
       "<p>5 rows × 32 columns</p>\n",
       "</div>"
      ],
      "text/plain": [
       "       pid_p  provcd14_p  urban14_p  cfps2014_age_p  cfps_gender_p  qa301_p  \\\n",
       "0  109137501        41.0        1.0            29.0            1.0      3.0   \n",
       "1  110002103        11.0        1.0            20.0            0.0      3.0   \n",
       "2  110003103        11.0        1.0            17.0            0.0      1.0   \n",
       "3  110006103        11.0        1.0            24.0            0.0      3.0   \n",
       "4  110009105        11.0        1.0            30.0            1.0      3.0   \n",
       "\n",
       "   wc01_p  employ2014_p  qn401_s_1_p  qp201_p  ...  qa301_f  wc01_f  \\\n",
       "0     0.0           1.0         78.0      2.0  ...      3.0    -8.0   \n",
       "1     1.0          -8.0          6.0      3.0  ...      3.0    -8.0   \n",
       "2     1.0          -8.0          6.0      2.0  ...      1.0     0.0   \n",
       "3     0.0           0.0         78.0      3.0  ...      3.0    -8.0   \n",
       "4     0.0           1.0         78.0      5.0  ...      3.0    -8.0   \n",
       "\n",
       "   employ2014_f  qn401_s_1_f  qp201_f  cfps2014eduy_f  cfps2014eduy_im_f  \\\n",
       "0           1.0          1.0      3.0            12.0               12.0   \n",
       "1           1.0         78.0      2.0            12.0               12.0   \n",
       "2           1.0         78.0      1.0            12.0               12.0   \n",
       "3           1.0          5.0      3.0            11.0               11.0   \n",
       "4           1.0         78.0      3.0            12.0               12.0   \n",
       "\n",
       "   cfps2014edu_f  income_f  income_14_f  \n",
       "0            4.0   38400.0      38400.0  \n",
       "1            4.0       0.0       2000.0  \n",
       "2            4.0      -8.0          0.0  \n",
       "3            3.0      -8.0          0.0  \n",
       "4            4.0      -8.0          0.0  \n",
       "\n",
       "[5 rows x 32 columns]"
      ]
     },
     "execution_count": 74,
     "metadata": {},
     "output_type": "execute_result"
    }
   ],
   "source": [
    "# 数据匹配，需要匹配两次，分别获取个人详细信息和父亲详细信息\n",
    "# 获取个人信息\n",
    "merge1=pd.merge(df1_1,df2_2,on='pid')\n",
    "merge1.rename(columns={'pid_f':'fpid'},inplace=True)# 避免merge产生重复列\n",
    "# 获取父亲信息\n",
    "merge2=pd.merge(merge1,df1_1,left_on='fpid',right_on='pid',suffixes=['_p','_f'])\n",
    "merge2.drop(['fpid'],axis=1,inplace=True)\n",
    "# merge3=pd.merge(merge2,df3_1,left_on='fid16_p',right_on='fid16')\n",
    "# 将列名全改为小写，方便后续操作\n",
    "# 还是暂时用merge2吧\n",
    "for x in merge2.columns.values:\n",
    "    merge2.rename(columns={x:x.lower()},inplace=True)\n",
    "merge2.head()#匹配了9368"
   ]
  },
  {
   "cell_type": "code",
   "execution_count": 75,
   "metadata": {
    "scrolled": true
   },
   "outputs": [],
   "source": [
    "# 筛选子辈年龄16-45,父辈年龄36-65,父子年龄差小于16(异常样本) 暂定这个范围\n",
    "res1=merge2\n",
    "index2=np.where((res1.cfps2014_age_p<16)|(res1.cfps2014_age_p>45))[0]\n",
    "index3=np.where((res1.cfps2014_age_f<36)|(res1.cfps2014_age_f>65))[0]\n",
    "res1['age_dif']=res1['cfps2014_age_f']-res1['cfps2014_age_p']\n",
    "index4=np.where(res1['age_dif']<10)[0]\n",
    "res2=res1.drop(list(index2)+list(index3)+list(index4))\n",
    "# 剩余7840\n",
    "res2.reset_index(drop=True,inplace=True)"
   ]
  },
  {
   "cell_type": "code",
   "execution_count": 76,
   "metadata": {},
   "outputs": [
    {
     "data": {
      "text/plain": [
       "7840"
      ]
     },
     "execution_count": 76,
     "metadata": {},
     "output_type": "execute_result"
    }
   ],
   "source": [
    "len(res2)"
   ]
  },
  {
   "cell_type": "code",
   "execution_count": 77,
   "metadata": {},
   "outputs": [],
   "source": [
    "# 筛选已离开学校wc01_p=0，不要在职学生的数据（数据量比较小，且收入误差可能较大）\n",
    "# school employ\n",
    "# 注意需要用& |,用and,or会报错,&的优先级比==高,\n",
    "index5=np.where((res2.wc01_p==0) & (res2.employ2014_p==1))[0]\n",
    "res3=res2.loc[index5,:]\n",
    "# 剩余4205\n",
    "res3.reset_index(drop=True,inplace=True)"
   ]
  },
  {
   "cell_type": "code",
   "execution_count": 78,
   "metadata": {},
   "outputs": [],
   "source": [
    "# 用2016跨年库中的income_14对收入进行插补\n",
    "res3['income_p']=res3.apply(lambda x:x['income_14_p'] if ((np.isnan(x['income_p']))|(x['income_p']==-8)|(x['income_p']==0))\n",
    "                            else x['income_p'],axis=1)\n",
    "res3['income_f']=res3.apply(lambda x:x['income_14_f'] if ((np.isnan(x['income_f']))|(x['income_f']==-8)|(x['income_f']==0))\n",
    "                            else x['income_f'],axis=1)"
   ]
  },
  {
   "cell_type": "code",
   "execution_count": 79,
   "metadata": {},
   "outputs": [],
   "source": [
    "# 剔除收入为空，或为-8,0的样本数据，以income为标准\n",
    "res4=res3.dropna(subset=['income_p','income_f']).reset_index(drop=True) # 剔除缺失值\n",
    "index7=np.where((res4['income_p'].isin([-8,0]))|(res4['income_f'].isin([-8,0])))[0] # 剔除收入不适用和为0的数据\n",
    "res5=res4.drop(index7) # 剩1269\n",
    "res5.reset_index(drop=True,inplace=True)"
   ]
  },
  {
   "cell_type": "code",
   "execution_count": 80,
   "metadata": {},
   "outputs": [
    {
     "data": {
      "text/plain": [
       "1269"
      ]
     },
     "execution_count": 80,
     "metadata": {},
     "output_type": "execute_result"
    }
   ],
   "source": [
    "len(res5)"
   ]
  },
  {
   "cell_type": "code",
   "execution_count": 81,
   "metadata": {},
   "outputs": [],
   "source": [
    "def eduy(x):\n",
    "    if x==1:\n",
    "        return 0\n",
    "    elif x==2:\n",
    "        return 6\n",
    "    elif x==3:\n",
    "        return 9\n",
    "    elif x==4:\n",
    "        return 12\n",
    "    elif x==5:\n",
    "        return 15\n",
    "    elif x==6:\n",
    "        return 16\n",
    "    elif x==7:\n",
    "        return 19\n",
    "    elif x==8:\n",
    "        return 22"
   ]
  },
  {
   "cell_type": "code",
   "execution_count": 82,
   "metadata": {},
   "outputs": [],
   "source": [
    "# 查看学历是否需要插补\n",
    "# 先把所有-9（缺失）替换为NA\n",
    "# 插补后记得剔除edu为0的，表示没有数据\n",
    "res6=res5.copy()\n",
    "res6[['cfps2014edu_p','cfps2014edu_f','cfps2014eduy_p',\n",
    "      'cfps2014eduy_f','cfps2014eduy_im_p','cfps2014eduy_im_f']]=res6[['cfps2014edu_p','cfps2014edu_f','cfps2014eduy_p',\n",
    "                                                                       'cfps2014eduy_f','cfps2014eduy_im_p','cfps2014eduy_im_f']].apply(lambda x:x.replace(-9,np.nan))\n",
    "res6['cfps2014eduy_p']=res6.apply(lambda x:x['cfps2014eduy_im_p'] if ((np.isnan(x['cfps2014eduy_p']))|(x['cfps2014eduy_p']==-1)) else x['cfps2014eduy_p'],axis=1)\n",
    "res6['cfps2014eduy_f']=res6.apply(lambda x:x['cfps2014eduy_im_f'] if ((np.isnan(x['cfps2014eduy_f']))|(x['cfps2014eduy_f']==-1)) else x['cfps2014eduy_f'],axis=1)\n",
    "res6['cfps2014edu_p']=res6.apply(lambda x:x['tb4_a14_p'] if ((np.isnan(x['cfps2014edu_p']))|(x['cfps2014edu_p']==-1)) else x['cfps2014edu_p'],axis=1)\n",
    "res6['cfps2014edu_f']=res6.apply(lambda x:x['tb4_a14_f'] if ((np.isnan(x['cfps2014edu_f']))|(x['cfps2014edu_f']==-1)) else x['cfps2014edu_f'],axis=1)\n",
    "res6['cfps2014eduy_p']=res6.apply(lambda x:eduy(x['cfps2014edu_p']) if ((np.isnan(x['cfps2014eduy_p']))|(x['cfps2014eduy_p']==-1)) else x['cfps2014eduy_p'],axis=1)\n",
    "res6['cfps2014eduy_f']=res6.apply(lambda x:eduy(x['cfps2014edu_f']) if ((np.isnan(x['cfps2014eduy_f']))|(x['cfps2014eduy_f']==-1)) else x['cfps2014eduy_f'],axis=1)\n",
    "res6.drop(['cfps2014eduy_im_p','cfps2014eduy_im_f'],axis=1,inplace=True)"
   ]
  },
  {
   "cell_type": "code",
   "execution_count": 83,
   "metadata": {},
   "outputs": [
    {
     "data": {
      "image/png": "[encoded data removed]",
      "text/plain": [
       "<Figure size 864x360 with 2 Axes>"
      ]
     },
     "metadata": {
      "needs_background": "light"
     },
     "output_type": "display_data"
    }
   ],
   "source": [
    "# 子代收入分布情况\n",
    "fig_p = plt.figure(figsize=(12,5))\n",
    "ax1_p = fig_p.add_subplot(121)\n",
    "ax2_p=fig_p.add_subplot(122)\n",
    "ax1_p.hist(res5['income_p'],bins=10)\n",
    "ax2_p.boxplot(res5['income_p'])\n",
    "fig_p.tight_layout()\n",
    "plt.show()"
   ]
  },
  {
   "cell_type": "code",
   "execution_count": 27,
   "metadata": {},
   "outputs": [
    {
     "data": {
      "image/png": "[encoded data removed]",
      "text/plain": [
       "<Figure size 864x360 with 2 Axes>"
      ]
     },
     "metadata": {
      "needs_background": "light"
     },
     "output_type": "display_data"
    }
   ],
   "source": [
    "# 父代收入分布情况\n",
    "fig_f = plt.figure(figsize=(12,5))\n",
    "ax1_f = fig_f.add_subplot(121)\n",
    "ax2_f=fig_f.add_subplot(122)\n",
    "ax1_f.hist(res5['income_f'],bins=10)\n",
    "ax2_f.boxplot(res5['income_f'])\n",
    "fig_f.tight_layout()\n",
    "plt.show()"
   ]
  },
  {
   "cell_type": "code",
   "execution_count": 84,
   "metadata": {},
   "outputs": [
    {
     "data": {
      "text/html": [
       "<div>\n",
       "<style scoped>\n",
       "    .dataframe tbody tr th:only-of-type {\n",
       "        vertical-align: middle;\n",
       "    }\n",
       "\n",
       "    .dataframe tbody tr th {\n",
       "        vertical-align: top;\n",
       "    }\n",
       "\n",
       "    .dataframe thead th {\n",
       "        text-align: right;\n",
       "    }\n",
       "</style>\n",
       "<table border=\"1\" class=\"dataframe\">\n",
       "  <thead>\n",
       "    <tr style=\"text-align: right;\">\n",
       "      <th></th>\n",
       "      <th>100%max</th>\n",
       "      <th>99%</th>\n",
       "      <th>95%</th>\n",
       "      <th>90%</th>\n",
       "      <th>75%</th>\n",
       "      <th>50%</th>\n",
       "      <th>25%</th>\n",
       "      <th>10%</th>\n",
       "      <th>5%</th>\n",
       "      <th>1%</th>\n",
       "      <th>0%min</th>\n",
       "    </tr>\n",
       "  </thead>\n",
       "  <tbody>\n",
       "    <tr>\n",
       "      <th>0</th>\n",
       "      <td>301000.0</td>\n",
       "      <td>111600.0</td>\n",
       "      <td>75000.0</td>\n",
       "      <td>60000.0</td>\n",
       "      <td>40000.0</td>\n",
       "      <td>30000.0</td>\n",
       "      <td>18000.0</td>\n",
       "      <td>8368.0</td>\n",
       "      <td>4000.0</td>\n",
       "      <td>1268.0</td>\n",
       "      <td>1.0</td>\n",
       "    </tr>\n",
       "    <tr>\n",
       "      <th>1</th>\n",
       "      <td>400000.0</td>\n",
       "      <td>103200.0</td>\n",
       "      <td>57160.0</td>\n",
       "      <td>48000.0</td>\n",
       "      <td>30000.0</td>\n",
       "      <td>19200.0</td>\n",
       "      <td>2900.0</td>\n",
       "      <td>65.0</td>\n",
       "      <td>60.0</td>\n",
       "      <td>50.0</td>\n",
       "      <td>1.0</td>\n",
       "    </tr>\n",
       "  </tbody>\n",
       "</table>\n",
       "</div>"
      ],
      "text/plain": [
       "    100%max       99%      95%      90%      75%      50%      25%     10%  \\\n",
       "0  301000.0  111600.0  75000.0  60000.0  40000.0  30000.0  18000.0  8368.0   \n",
       "1  400000.0  103200.0  57160.0  48000.0  30000.0  19200.0   2900.0    65.0   \n",
       "\n",
       "       5%      1%  0%min  \n",
       "0  4000.0  1268.0    1.0  \n",
       "1    60.0    50.0    1.0  "
      ]
     },
     "execution_count": 84,
     "metadata": {},
     "output_type": "execute_result"
    }
   ],
   "source": [
    "# 计算收入的分位数\n",
    "tmp_inp=np.array(res5['income_p'])\n",
    "tmp_inf=np.array(res5['income_f'])\n",
    "per_p=[np.percentile(tmp_inp,x) for x in [100,99,95,90,75,50,25,10,5,1,0]]\n",
    "per_f=[np.percentile(tmp_inf,x) for x in [100,99,95,90,75,50,25,10,5,1,0]]\n",
    "col_name=['100%max','99%','95%','90%','75%','50%','25%','10%','5%','1%','0%min']\n",
    "pd.DataFrame([per_p,per_f],columns=col_name)"
   ]
  },
  {
   "cell_type": "code",
   "execution_count": 29,
   "metadata": {},
   "outputs": [],
   "source": [
    "# 剔除首尾1%的极端数据，39条\n",
    "# index8=np.where((res5.income_p<=np.percentile(tmp_inp,1))|(res5.income_p>=np.percentile(tmp_inp,99))|\n",
    "#                (res5.income_f<=np.percentile(tmp_inf,1))|(res5.income_f>=np.percentile(tmp_inf,99)))[0]\n",
    "# res6=res5.drop(index8)# 剩849\n",
    "# res6.reset_index(drop=True,inplace=True)"
   ]
  },
  {
   "cell_type": "code",
   "execution_count": 85,
   "metadata": {},
   "outputs": [
    {
     "data": {
      "text/plain": [
       "1269"
      ]
     },
     "execution_count": 85,
     "metadata": {},
     "output_type": "execute_result"
    }
   ],
   "source": [
    "len(res6)"
   ]
  },
  {
   "cell_type": "code",
   "execution_count": 124,
   "metadata": {},
   "outputs": [],
   "source": [
    "# 根据其他相关变量剔除样本，包括缺失、不适用等\n",
    "res7=res6.dropna(subset=['provcd14_p','provcd14_f','urban14_p','urban14_f','qa301_p','qa301_f',\n",
    "                         'cfps2014edu_p','cfps2014edu_f','cfps2014eduy_p','cfps2014eduy_f',\n",
    "                         'cfps_gender_p','cfps_gender_f','qp201_p','qp201_f','qn401_s_1_p','qn401_s_1_f']).reset_index(drop=True)\n",
    "index9=np.where((res7.urban14_p==-9)|(res7.urban14_f==-9)|(res7.provcd14_p==-9)|(res7.provcd14_f==-9)|\n",
    "            (res7.qa301_p.isin([-1,-2,5,79]))|(res7.qa301_f.isin([-1,-2,5,79]))|(res7.cfps_gender_p==-8)|\n",
    "            (res7.cfps_gender_f==-8)|(res7.qn401_s_1_p.isin([-1,-8]))|(res7.qn401_s_1_p.isin([-1,-8]))|\n",
    "            (res7.qp201_p.isin([-1,-2,-8]))|(res7.qp201_f.isin([-1,-2,-8]))|\n",
    "            (res7.cfps2014edu_p==-1)|(res7.cfps2014edu_f==-1))[0]\n",
    "res7.drop(index9,inplace=True)\n",
    "res7.reset_index(drop=True,inplace=True)# 剩1070\n"
   ]
  },
  {
   "cell_type": "code",
   "execution_count": 125,
   "metadata": {},
   "outputs": [],
   "source": [
    "# 处理政治身份，党员为1，其余为0\n",
    "res7['qn401_s_1_p']=res7.apply(lambda x:1 if x['qn401_s_1_p']==1 else 0,axis=1)\n",
    "res7['qn401_s_1_f']=res7.apply(lambda x:1 if x['qn401_s_1_f']==1 else 0,axis=1)"
   ]
  },
  {
   "cell_type": "code",
   "execution_count": 126,
   "metadata": {},
   "outputs": [
    {
     "data": {
      "text/plain": [
       "1070"
      ]
     },
     "execution_count": 126,
     "metadata": {},
     "output_type": "execute_result"
    }
   ],
   "source": [
    "len(res7)"
   ]
  },
  {
   "cell_type": "code",
   "execution_count": 58,
   "metadata": {},
   "outputs": [
    {
     "data": {
      "text/plain": [
       "provcd14_p\n",
       "11.0     17\n",
       "12.0     12\n",
       "13.0     64\n",
       "14.0     28\n",
       "21.0    108\n",
       "22.0     20\n",
       "23.0     27\n",
       "31.0    125\n",
       "32.0     48\n",
       "33.0     33\n",
       "34.0     16\n",
       "35.0     15\n",
       "36.0     17\n",
       "37.0     43\n",
       "41.0    140\n",
       "42.0     13\n",
       "43.0     21\n",
       "44.0    109\n",
       "45.0     22\n",
       "50.0      5\n",
       "51.0     46\n",
       "52.0     13\n",
       "53.0     24\n",
       "61.0     19\n",
       "62.0     85\n",
       "Name: pid_p, dtype: int64"
      ]
     },
     "execution_count": 58,
     "metadata": {},
     "output_type": "execute_result"
    }
   ],
   "source": [
    "res7.groupby('provcd14_p')['pid_p'].size()"
   ]
  },
  {
   "cell_type": "code",
   "execution_count": 127,
   "metadata": {},
   "outputs": [],
   "source": [
    "# 计算收入阶层\n",
    "def per_num(x,tmp):\n",
    "    '''\n",
    "    x:income\n",
    "    tmp:array(income)\n",
    "    '''\n",
    "    if x<=np.percentile(tmp,20):\n",
    "        return 1\n",
    "    elif np.percentile(tmp,20)<x<=np.percentile(tmp,40):\n",
    "        return 2\n",
    "    elif np.percentile(tmp,40)<x<=np.percentile(tmp,60):\n",
    "        return 3\n",
    "    elif np.percentile(tmp,60)<x<=np.percentile(tmp,80):\n",
    "        return 4\n",
    "    else:\n",
    "        return 5\n",
    "\n",
    "res7['rank_p']=res7['income_p'].map(lambda x:per_num(x,tmp_inp))\n",
    "res7['rank_f']=res7['income_f'].map(lambda x:per_num(x,tmp_inf))\n",
    "# 收入阶层流动\n",
    "res7['rank_flow']=res7.apply(lambda x:1 if x['rank_p']>x['rank_f'] else (-1 if x['rank_p']<x['rank_f'] else 0),axis=1)"
   ]
  },
  {
   "cell_type": "code",
   "execution_count": 128,
   "metadata": {},
   "outputs": [
    {
     "data": {
      "text/plain": [
       "rank_p\n",
       "1    212\n",
       "2    220\n",
       "3    210\n",
       "4    215\n",
       "5    213\n",
       "Name: pid_p, dtype: int64"
      ]
     },
     "execution_count": 128,
     "metadata": {},
     "output_type": "execute_result"
    }
   ],
   "source": [
    "res7.groupby('rank_p')['pid_p'].size()"
   ]
  },
  {
   "cell_type": "code",
   "execution_count": 61,
   "metadata": {},
   "outputs": [
    {
     "data": {
      "text/plain": [
       "rank_f\n",
       "1    215\n",
       "2    220\n",
       "3    237\n",
       "4    207\n",
       "5    191\n",
       "Name: pid_f, dtype: int64"
      ]
     },
     "execution_count": 61,
     "metadata": {},
     "output_type": "execute_result"
    }
   ],
   "source": [
    "res7.groupby('rank_f')['pid_f'].size()"
   ]
  },
  {
   "cell_type": "code",
   "execution_count": 62,
   "metadata": {},
   "outputs": [
    {
     "data": {
      "text/plain": [
       "rank_flow\n",
       "-1    415\n",
       " 0    227\n",
       " 1    428\n",
       "dtype: int64"
      ]
     },
     "execution_count": 62,
     "metadata": {},
     "output_type": "execute_result"
    }
   ],
   "source": [
    "res7.groupby('rank_flow').size()"
   ]
  },
  {
   "cell_type": "code",
   "execution_count": 63,
   "metadata": {},
   "outputs": [
    {
     "data": {
      "text/plain": [
       "urban14_f\n",
       "0.0    469\n",
       "1.0    601\n",
       "dtype: int64"
      ]
     },
     "execution_count": 63,
     "metadata": {},
     "output_type": "execute_result"
    }
   ],
   "source": [
    "res7.groupby('urban14_f').size()"
   ]
  },
  {
   "cell_type": "code",
   "execution_count": 96,
   "metadata": {
    "collapsed": true
   },
   "outputs": [
    {
     "data": {
      "text/plain": [
       "['pid_p',\n",
       " 'provcd_p',\n",
       " 'urban_p',\n",
       " 'age_p',\n",
       " 'gender_p',\n",
       " 'hukou_p',\n",
       " 'school_p',\n",
       " 'employ_p',\n",
       " 'party_p',\n",
       " 'heal_p',\n",
       " 'eduy_p',\n",
       " 'edu_p',\n",
       " 'income_p',\n",
       " 'pid_f',\n",
       " 'provcd_f',\n",
       " 'urban_f',\n",
       " 'age_f',\n",
       " 'gender_f',\n",
       " 'hukou_f',\n",
       " 'school_f',\n",
       " 'employ_f',\n",
       " 'party_f',\n",
       " 'heal_f',\n",
       " 'eduy_f',\n",
       " 'edu_f',\n",
       " 'income_f',\n",
       " 'age_dif',\n",
       " 'year',\n",
       " 'rank_p',\n",
       " 'rank_f',\n",
       " 'rank_flow']"
      ]
     },
     "execution_count": 96,
     "metadata": {},
     "output_type": "execute_result"
    }
   ],
   "source": [
    "res7.columns.values.tolist()"
   ]
  },
  {
   "cell_type": "code",
   "execution_count": 129,
   "metadata": {},
   "outputs": [],
   "source": [
    "res7.drop(['income_14_p','income_14_f','tb4_a14_p','tb4_a14_f'],axis=1,inplace=True)"
   ]
  },
  {
   "cell_type": "code",
   "execution_count": 130,
   "metadata": {},
   "outputs": [],
   "source": [
    "res7.rename(columns={'provcd14_p':'provcd_p','provcd14_f':'provcd_f','urban14_p':'urban_p','urban14_f':'urban_f','cfps2014_age_p':'age_p',\n",
    "                    'cfps2014_age_f':'age_f','cfps_gender_p':'gender_p','cfps_gender_f':'gender_f','qa301_p':'hukou_p','qa301_f':'hukou_f',\n",
    "                    'cfps2014edu_p':'edu_p','cfps2014edu_f':'edu_f','wc01_p':'school_p','cfps2014eduy_p':'eduy_p','cfps2014eduy_f':'eduy_f',\n",
    "                    'wc01_f':'school_f','employ2014_p':'employ_p','employ2014_f':'employ_f','qp201_p':'heal_p','qp201_f':'heal_f',\n",
    "                    'qn401_s_1_p':'party_p','qn401_s_1_f':'party_f'},inplace=True)"
   ]
  },
  {
   "cell_type": "code",
   "execution_count": 131,
   "metadata": {},
   "outputs": [],
   "source": [
    "# 户口\n",
    "res7[['hukou_p','hukou_f']]=res7[['hukou_p','hukou_f']].apply(lambda x:x.replace(3,0))\n",
    "res7['rank_dif']=res7['rank_p']-res7['rank_f']\n",
    "res7['year']=2014"
   ]
  },
  {
   "cell_type": "code",
   "execution_count": 132,
   "metadata": {},
   "outputs": [],
   "source": [
    "p_city_pro=pd.read_csv('data result/p_city_pro.csv',encoding='GBK',index_col=0).reset_index()\n",
    "expend_farm_pro=pd.read_csv('data result/expend_farm_pro.csv',encoding='GBK',index_col=0).reset_index()\n",
    "expend_edu_pro=pd.read_csv('data result/expend_edu_pro.csv',encoding='GBK',index_col=0).reset_index()\n",
    "exp_GDP_pro=pd.read_csv('data result/exp_GDP_pro.csv',encoding='GBK',index_col=0).reset_index()\n",
    "province=pd.read_csv('data result/province.csv',encoding='GBK')\n",
    "birth_rate=pd.read_csv('data result/birth_rate.csv',encoding='GBK',index_col=0).reset_index()\n",
    "cpi=pd.read_csv('data result/各省CPI_2010基期.csv',encoding='GBK',index_col=0).reset_index()\n",
    "pGDP=pd.read_csv('data result/各省人均GDP.csv',encoding='GBK',index_col=0).reset_index()"
   ]
  },
  {
   "cell_type": "code",
   "execution_count": 133,
   "metadata": {},
   "outputs": [],
   "source": [
    "p_city_pro=province.merge(p_city_pro,left_on='Label',right_on='index').drop(['Label','index'],axis=1)\n",
    "expend_edu_pro=province.merge(expend_edu_pro,left_on='Label',right_on='index').drop(['Label','index'],axis=1)\n",
    "expend_farm_pro=province.merge(expend_farm_pro,left_on='Label',right_on='index').drop(['Label','index'],axis=1)\n",
    "exp_GDP_pro=province.merge(exp_GDP_pro,left_on='Label',right_on='index').drop(['Label','index'],axis=1)\n",
    "birth_rate=province.merge(birth_rate,left_on='Label',right_on='index').drop(['Label','index'],axis=1)\n",
    "cpi=province.merge(cpi,left_on='Label',right_on='index').drop(['Label','index'],axis=1)\n",
    "pGDP=province.merge(pGDP,left_on='Label',right_on='index').drop(['Label','index'],axis=1)"
   ]
  },
  {
   "cell_type": "code",
   "execution_count": 134,
   "metadata": {},
   "outputs": [],
   "source": [
    "# 将人均GDP调整到2010年的不变价格\n",
    "col=['2010','2011','2012','2013','2014','2015','2016']\n",
    "for i in col:\n",
    "    pGDP[i]=pGDP[i]/cpi[i]"
   ]
  },
  {
   "cell_type": "code",
   "execution_count": 135,
   "metadata": {},
   "outputs": [],
   "source": [
    "res7=res7.merge(p_city_pro[['No','2014']],left_on='provcd_p',right_on='No').rename(columns={'2014':'p_city_pro'}).drop('No',axis=1)\n",
    "res7=res7.merge(expend_farm_pro[['No','2014']],left_on='provcd_p',right_on='No').rename(columns={'2014':'expend_farm_pro'}).drop('No',axis=1)\n",
    "res7=res7.merge(expend_edu_pro[['No','2014']],left_on='provcd_p',right_on='No').rename(columns={'2014':'expend_edu_pro'}).drop('No',axis=1)\n",
    "res7=res7.merge(exp_GDP_pro[['No','2014']],left_on='provcd_p',right_on='No').rename(columns={'2014':'exp_GDP_pro'}).drop('No',axis=1)\n",
    "res7=res7.merge(birth_rate[['No','2014']],left_on='provcd_p',right_on='No').rename(columns={'2014':'birth_rate'}).drop('No',axis=1)\n",
    "res7=res7.merge(pGDP[['No','2014']],left_on='provcd_p',right_on='No').rename(columns={'2014':'pGDP'}).drop('No',axis=1)\n",
    "res7=res7.merge(cpi[['No','2014']],left_on='provcd_p',right_on='No').rename(columns={'2014':'cpi'}).drop('No',axis=1)"
   ]
  },
  {
   "cell_type": "code",
   "execution_count": 136,
   "metadata": {},
   "outputs": [],
   "source": [
    "# 2010年为基期，调整为不变价格\n",
    "res7[['income_p','income_f']]=res7.apply(lambda x:x[['income_p','income_f']]/x['cpi'],axis=1)"
   ]
  },
  {
   "cell_type": "code",
   "execution_count": 137,
   "metadata": {},
   "outputs": [],
   "source": [
    "res7.to_csv('data result/model2014.csv',index=False)"
   ]
  }
 ],
 "metadata": {
  "kernelspec": {
   "display_name": "Python 3",
   "language": "python",
   "name": "python3"
  },
  "language_info": {
   "codemirror_mode": {
    "name": "ipython",
    "version": 3
   },
   "file_extension": ".py",
   "mimetype": "text/x-python",
   "name": "python",
   "nbconvert_exporter": "python",
   "pygments_lexer": "ipython3",
   "version": "3.7.2"
  }
 },
 "nbformat": 4,
 "nbformat_minor": 2
}
