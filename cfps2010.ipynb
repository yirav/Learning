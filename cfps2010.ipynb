{
 "cells": [
  {
   "cell_type": "code",
   "execution_count": 1,
   "metadata": {},
   "outputs": [],
   "source": [
    "import pandas as pd\n",
    "import numpy as np\n",
    "from matplotlib import pyplot as plt\n",
    "import math"
   ]
  },
  {
   "cell_type": "markdown",
   "metadata": {},
   "source": [
    "# CFPS2010"
   ]
  },
  {
   "cell_type": "code",
   "execution_count": 11,
   "metadata": {},
   "outputs": [],
   "source": [
    "# 成人问卷\n",
    "df1=pd.read_sas('CFPS2010/cfps2010adult_201906.sas7bdat')\n",
    "df1['pid']=df1['pid'].astype(int)\n",
    "# 家庭成员关系\n",
    "# 需要从中识别父亲编号pid_f，再去成人问卷中匹配父亲pid\n",
    "df2=pd.read_sas('CFPS2010/cfps2010famconf_report_nat072016.sas7bdat')\n",
    "df2[['pid','pid_f']]=df2[['pid','pid_f']].astype(int)\n",
    "# 2016年跨年库\n",
    "df3=pd.read_sas('CFPS2016/cfps2016crossyearid_201807.sas7bdat')\n",
    "df3['pid']=df3['pid'].astype(int)"
   ]
  },
  {
   "cell_type": "code",
   "execution_count": 12,
   "metadata": {},
   "outputs": [],
   "source": [
    "# describe后发现id有为负数的，视作异常样本\n",
    "# df1剔除id不在区间范围的记录\n",
    "# 删除0条\n",
    "out_df1=np.where((df1.pid<110001101)|(df1.pid>621872103))[0]\n",
    "df1.drop(out_df1,inplace=True)\n",
    "df1.reset_index(drop=True,inplace=True)\n",
    "\n",
    "# df2剔除pid_f等于-8和77的样本的记录\n",
    "# 删除35350\n",
    "out_df2=np.where((df2.pid<110001101)|(df2.pid>621872104))[0] # 查看后有4条重复记录\n",
    "index1=np.where((df2.pid_f==-8))[0]\n",
    "df2_1=df2.drop(list(out_df2)+list(index1))\n",
    "df2_1.reset_index(drop=True,inplace=True)\n",
    "# 筛选所需变量\n",
    "df2_2=df2_1[['pid','pid_f','TB4_A_p','TB4_A_f']]"
   ]
  },
  {
   "cell_type": "code",
   "execution_count": 13,
   "metadata": {},
   "outputs": [
    {
     "data": {
      "text/html": [
       "<div>\n",
       "<style scoped>\n",
       "    .dataframe tbody tr th:only-of-type {\n",
       "        vertical-align: middle;\n",
       "    }\n",
       "\n",
       "    .dataframe tbody tr th {\n",
       "        vertical-align: top;\n",
       "    }\n",
       "\n",
       "    .dataframe thead th {\n",
       "        text-align: right;\n",
       "    }\n",
       "</style>\n",
       "<table border=\"1\" class=\"dataframe\">\n",
       "  <thead>\n",
       "    <tr style=\"text-align: right;\">\n",
       "      <th></th>\n",
       "      <th>pid</th>\n",
       "      <th>pid_f</th>\n",
       "      <th>TB4_A_p</th>\n",
       "      <th>TB4_A_f</th>\n",
       "    </tr>\n",
       "  </thead>\n",
       "  <tbody>\n",
       "  </tbody>\n",
       "</table>\n",
       "</div>"
      ],
      "text/plain": [
       "Empty DataFrame\n",
       "Columns: [pid, pid_f, TB4_A_p, TB4_A_f]\n",
       "Index: []"
      ]
     },
     "execution_count": 13,
     "metadata": {},
     "output_type": "execute_result"
    }
   ],
   "source": [
    "# 查看有无id重复记录\n",
    "df1[df1.pid.duplicated(keep=False)]# 无重复\n",
    "df2_2[df2_2.duplicated(subset=['pid','pid_f'])]# 无重复\n",
    "# 由于家庭关系数据库中只关注父子id，其他变量的正确性不用在意，因此只保留一条父子id对即可\n",
    "# df2_2.drop_duplicates(subset=['pid','pid_f'],keep='first',inplace=True)# 剩23299"
   ]
  },
  {
   "cell_type": "code",
   "execution_count": 14,
   "metadata": {},
   "outputs": [
    {
     "data": {
      "text/html": [
       "<div>\n",
       "<style scoped>\n",
       "    .dataframe tbody tr th:only-of-type {\n",
       "        vertical-align: middle;\n",
       "    }\n",
       "\n",
       "    .dataframe tbody tr th {\n",
       "        vertical-align: top;\n",
       "    }\n",
       "\n",
       "    .dataframe thead th {\n",
       "        text-align: right;\n",
       "    }\n",
       "</style>\n",
       "<table border=\"1\" class=\"dataframe\">\n",
       "  <thead>\n",
       "    <tr style=\"text-align: right;\">\n",
       "      <th></th>\n",
       "      <th>pid_p</th>\n",
       "      <th>provcd_p</th>\n",
       "      <th>urban_p</th>\n",
       "      <th>qa1age_p</th>\n",
       "      <th>gender_p</th>\n",
       "      <th>qa7_s_1_p</th>\n",
       "      <th>qa2_p</th>\n",
       "      <th>qd3_p</th>\n",
       "      <th>qg3_p</th>\n",
       "      <th>qp3_p</th>\n",
       "      <th>...</th>\n",
       "      <th>qa7_s_1_f</th>\n",
       "      <th>qa2_f</th>\n",
       "      <th>qd3_f</th>\n",
       "      <th>qg3_f</th>\n",
       "      <th>qp3_f</th>\n",
       "      <th>income_f</th>\n",
       "      <th>income_10_f</th>\n",
       "      <th>cfps2010edu_best_f</th>\n",
       "      <th>cfps2010eduy_best_f</th>\n",
       "      <th>cfps2010eduy_im_f</th>\n",
       "    </tr>\n",
       "  </thead>\n",
       "  <tbody>\n",
       "    <tr>\n",
       "      <th>0</th>\n",
       "      <td>110005101</td>\n",
       "      <td>11.0</td>\n",
       "      <td>1.0</td>\n",
       "      <td>19.0</td>\n",
       "      <td>0.0</td>\n",
       "      <td>6.0</td>\n",
       "      <td>3.0</td>\n",
       "      <td>0.0</td>\n",
       "      <td>1.0</td>\n",
       "      <td>2.0</td>\n",
       "      <td>...</td>\n",
       "      <td>78.0</td>\n",
       "      <td>3.0</td>\n",
       "      <td>0.0</td>\n",
       "      <td>1.0</td>\n",
       "      <td>2.0</td>\n",
       "      <td>12000.0</td>\n",
       "      <td>12000.0</td>\n",
       "      <td>4.0</td>\n",
       "      <td>12.0</td>\n",
       "      <td>NaN</td>\n",
       "    </tr>\n",
       "    <tr>\n",
       "      <th>1</th>\n",
       "      <td>110007101</td>\n",
       "      <td>11.0</td>\n",
       "      <td>1.0</td>\n",
       "      <td>24.0</td>\n",
       "      <td>0.0</td>\n",
       "      <td>78.0</td>\n",
       "      <td>3.0</td>\n",
       "      <td>0.0</td>\n",
       "      <td>1.0</td>\n",
       "      <td>2.0</td>\n",
       "      <td>...</td>\n",
       "      <td>78.0</td>\n",
       "      <td>1.0</td>\n",
       "      <td>0.0</td>\n",
       "      <td>1.0</td>\n",
       "      <td>2.0</td>\n",
       "      <td>12000.0</td>\n",
       "      <td>12000.0</td>\n",
       "      <td>3.0</td>\n",
       "      <td>9.0</td>\n",
       "      <td>NaN</td>\n",
       "    </tr>\n",
       "    <tr>\n",
       "      <th>2</th>\n",
       "      <td>110007103</td>\n",
       "      <td>11.0</td>\n",
       "      <td>1.0</td>\n",
       "      <td>20.0</td>\n",
       "      <td>1.0</td>\n",
       "      <td>78.0</td>\n",
       "      <td>1.0</td>\n",
       "      <td>0.0</td>\n",
       "      <td>1.0</td>\n",
       "      <td>1.0</td>\n",
       "      <td>...</td>\n",
       "      <td>78.0</td>\n",
       "      <td>1.0</td>\n",
       "      <td>0.0</td>\n",
       "      <td>1.0</td>\n",
       "      <td>2.0</td>\n",
       "      <td>12000.0</td>\n",
       "      <td>12000.0</td>\n",
       "      <td>3.0</td>\n",
       "      <td>9.0</td>\n",
       "      <td>NaN</td>\n",
       "    </tr>\n",
       "    <tr>\n",
       "      <th>3</th>\n",
       "      <td>110009105</td>\n",
       "      <td>11.0</td>\n",
       "      <td>1.0</td>\n",
       "      <td>26.0</td>\n",
       "      <td>1.0</td>\n",
       "      <td>6.0</td>\n",
       "      <td>3.0</td>\n",
       "      <td>0.0</td>\n",
       "      <td>1.0</td>\n",
       "      <td>2.0</td>\n",
       "      <td>...</td>\n",
       "      <td>6.0</td>\n",
       "      <td>3.0</td>\n",
       "      <td>0.0</td>\n",
       "      <td>1.0</td>\n",
       "      <td>1.0</td>\n",
       "      <td>12000.0</td>\n",
       "      <td>12000.0</td>\n",
       "      <td>4.0</td>\n",
       "      <td>12.0</td>\n",
       "      <td>12.0</td>\n",
       "    </tr>\n",
       "    <tr>\n",
       "      <th>4</th>\n",
       "      <td>110009107</td>\n",
       "      <td>11.0</td>\n",
       "      <td>1.0</td>\n",
       "      <td>21.0</td>\n",
       "      <td>1.0</td>\n",
       "      <td>6.0</td>\n",
       "      <td>3.0</td>\n",
       "      <td>1.0</td>\n",
       "      <td>0.0</td>\n",
       "      <td>2.0</td>\n",
       "      <td>...</td>\n",
       "      <td>78.0</td>\n",
       "      <td>3.0</td>\n",
       "      <td>0.0</td>\n",
       "      <td>0.0</td>\n",
       "      <td>1.0</td>\n",
       "      <td>15000.0</td>\n",
       "      <td>15000.0</td>\n",
       "      <td>1.0</td>\n",
       "      <td>2.0</td>\n",
       "      <td>6.0</td>\n",
       "    </tr>\n",
       "  </tbody>\n",
       "</table>\n",
       "<p>5 rows × 32 columns</p>\n",
       "</div>"
      ],
      "text/plain": [
       "       pid_p  provcd_p  urban_p  qa1age_p  gender_p  qa7_s_1_p  qa2_p  qd3_p  \\\n",
       "0  110005101      11.0      1.0      19.0       0.0        6.0    3.0    0.0   \n",
       "1  110007101      11.0      1.0      24.0       0.0       78.0    3.0    0.0   \n",
       "2  110007103      11.0      1.0      20.0       1.0       78.0    1.0    0.0   \n",
       "3  110009105      11.0      1.0      26.0       1.0        6.0    3.0    0.0   \n",
       "4  110009107      11.0      1.0      21.0       1.0        6.0    3.0    1.0   \n",
       "\n",
       "   qg3_p  qp3_p  ...  qa7_s_1_f  qa2_f  qd3_f  qg3_f  qp3_f  income_f  \\\n",
       "0    1.0    2.0  ...       78.0    3.0    0.0    1.0    2.0   12000.0   \n",
       "1    1.0    2.0  ...       78.0    1.0    0.0    1.0    2.0   12000.0   \n",
       "2    1.0    1.0  ...       78.0    1.0    0.0    1.0    2.0   12000.0   \n",
       "3    1.0    2.0  ...        6.0    3.0    0.0    1.0    1.0   12000.0   \n",
       "4    0.0    2.0  ...       78.0    3.0    0.0    0.0    1.0   15000.0   \n",
       "\n",
       "   income_10_f  cfps2010edu_best_f  cfps2010eduy_best_f  cfps2010eduy_im_f  \n",
       "0      12000.0                 4.0                 12.0                NaN  \n",
       "1      12000.0                 3.0                  9.0                NaN  \n",
       "2      12000.0                 3.0                  9.0                NaN  \n",
       "3      12000.0                 4.0                 12.0               12.0  \n",
       "4      15000.0                 1.0                  2.0                6.0  \n",
       "\n",
       "[5 rows x 32 columns]"
      ]
     },
     "execution_count": 14,
     "metadata": {},
     "output_type": "execute_result"
    }
   ],
   "source": [
    "# 数据匹配，需要匹配两次，分别获取个人详细信息和父亲详细信息\n",
    "# 获取个人信息\n",
    "# 先匹配跨年库中的相关变量\n",
    "df1=pd.merge(df1,df3[['pid','INCOME_10','cfps2010eduy_im','cfps2010eduy']],on='pid',how='left')\n",
    "'''\n",
    "QA2：现在的户口状况\n",
    "QD3：上学状态\n",
    "QG3：当前工作状态\n",
    "QA7_S_1：您是哪些组织成员，党员为1，其余的后面设为0，剔除缺失\n",
    "QP3：健康状况\n",
    "cfps2010edu_best:最高学历\n",
    "cfps2010eduy_best：受教育年限(2012跨年库中)\n",
    "cfps2010eduy_im：受教育年限插补\n",
    "income：总收入\n",
    "'''\n",
    "df1_1=df1[['pid','provcd','urban','QA1AGE','GENDER','QA7_S_1',\n",
    "           'QA2','QD3','QG3','QP3','INCOME','INCOME_10',\n",
    "           'cfps2010edu_best','cfps2010eduy_best','cfps2010eduy_im']]\n",
    "merge1=pd.merge(df1_1,df2_2,on='pid')\n",
    "merge1.rename(columns={'pid_f':'fpid'},inplace=True)# 避免merge产生重复列\n",
    "# 获取父亲信息\n",
    "merge2=pd.merge(merge1,df1_1,left_on='fpid',right_on='pid',suffixes=['_p','_f'])\n",
    "merge2.drop(['fpid'],axis=1,inplace=True)\n",
    "# 将列名全改为小写，方便后续操作\n",
    "for x in merge2.columns.values:\n",
    "    merge2.rename(columns={x:x.lower()},inplace=True)\n",
    "# 匹配了5145\n",
    "merge2.head()"
   ]
  },
  {
   "cell_type": "code",
   "execution_count": 15,
   "metadata": {},
   "outputs": [],
   "source": [
    "# 筛选子辈年龄16-45,父辈年龄36-65,父子年龄差小于16(异常样本) 暂定这个范围\n",
    "res1=merge2\n",
    "index2=np.where((res1.qa1age_p<16)|(res1.qa1age_p>45))[0]\n",
    "index3=np.where((res1.qa1age_f<36)|(res1.qa1age_f>65))[0]\n",
    "res1['age_dif']=res1['qa1age_f']-res1['qa1age_p']\n",
    "index4=np.where(res1['age_dif']<10)[0]\n",
    "res2=res1.drop(list(index2)+list(index3)+list(index4))\n",
    "# 剩余4363\n",
    "res2.reset_index(drop=True,inplace=True)"
   ]
  },
  {
   "cell_type": "code",
   "execution_count": 16,
   "metadata": {},
   "outputs": [
    {
     "data": {
      "text/plain": [
       "4363"
      ]
     },
     "execution_count": 16,
     "metadata": {},
     "output_type": "execute_result"
    }
   ],
   "source": [
    "len(res2)"
   ]
  },
  {
   "cell_type": "code",
   "execution_count": 19,
   "metadata": {},
   "outputs": [],
   "source": [
    "# 筛选已离开学校qd3_p=0，不要在职学生的数据（数据量比较小，且收入误差可能较大）\n",
    "# school employ\n",
    "# 注意需要用& |,用and,or会报错,&的优先级比==高,\n",
    "index5=np.where((res2.qd3_p==0)&(res2.qg3_p==1))[0]\n",
    "res3=res2.loc[index5,:]\n",
    "# 剩余3142\n",
    "res3.reset_index(drop=True,inplace=True)"
   ]
  },
  {
   "cell_type": "code",
   "execution_count": 20,
   "metadata": {},
   "outputs": [
    {
     "data": {
      "text/plain": [
       "1850"
      ]
     },
     "execution_count": 20,
     "metadata": {},
     "output_type": "execute_result"
    }
   ],
   "source": [
    "len(res3)"
   ]
  },
  {
   "cell_type": "code",
   "execution_count": 21,
   "metadata": {},
   "outputs": [],
   "source": [
    "# 用2016跨年库中的income_10对收入进行插补\n",
    "res3['income_p']=res3.apply(lambda x:x['income_10_p'] if ((np.isnan(x['income_p']))|(x['income_p']==-8)|(x['income_p']==0))\n",
    "                            else x['income_p'],axis=1)\n",
    "res3['income_f']=res3.apply(lambda x:x['income_10_f'] if ((np.isnan(x['income_f']))|(x['income_f']==-8)|(x['income_f']==0))\n",
    "                            else x['income_f'],axis=1)"
   ]
  },
  {
   "cell_type": "code",
   "execution_count": 23,
   "metadata": {},
   "outputs": [],
   "source": [
    "# 剔除收入为空，或为-8,0的样本数据，以income为标准\n",
    "res4=res3.dropna(subset=['income_p','income_f']).reset_index(drop=True) # 剔除缺失值\n",
    "index7=np.where((res4['income_p'].isin([-8,0]))|(res4['income_f'].isin([-8,0])))[0] # 剔除收入不适用和为0的数据\n",
    "# index7=np.where((res4['income_p']==-8)|(res4['income_f']==-8))[0]\n",
    "res5=res4.drop(index7) # 剩1522\n",
    "res5.reset_index(drop=True,inplace=True)"
   ]
  },
  {
   "cell_type": "code",
   "execution_count": 24,
   "metadata": {
    "scrolled": true
   },
   "outputs": [
    {
     "data": {
      "text/plain": [
       "1522"
      ]
     },
     "execution_count": 24,
     "metadata": {},
     "output_type": "execute_result"
    }
   ],
   "source": [
    "len(res5)"
   ]
  },
  {
   "cell_type": "code",
   "execution_count": 25,
   "metadata": {},
   "outputs": [],
   "source": [
    "def eduy(x):\n",
    "    if x==1:\n",
    "        return 0\n",
    "    elif x==2:\n",
    "        return 6\n",
    "    elif x==3:\n",
    "        return 9\n",
    "    elif x==4:\n",
    "        return 12\n",
    "    elif x==5:\n",
    "        return 15\n",
    "    elif x==6:\n",
    "        return 16\n",
    "    elif x==7:\n",
    "        return 19\n",
    "    elif x==8:\n",
    "        return 22"
   ]
  },
  {
   "cell_type": "code",
   "execution_count": 30,
   "metadata": {},
   "outputs": [
    {
     "name": "stdout",
     "output_type": "stream",
     "text": [
      "<class 'pandas.core.frame.DataFrame'>\n",
      "RangeIndex: 1522 entries, 0 to 1521\n",
      "Data columns (total 4 columns):\n",
      "cfps2010edu_best_p     1522 non-null float64\n",
      "cfps2010eduy_best_p    1522 non-null float64\n",
      "cfps2010edu_best_f     1522 non-null float64\n",
      "cfps2010eduy_best_f    1522 non-null float64\n",
      "dtypes: float64(4)\n",
      "memory usage: 47.6 KB\n"
     ]
    }
   ],
   "source": [
    "res6.filter(regex='edu').info()"
   ]
  },
  {
   "cell_type": "code",
   "execution_count": 29,
   "metadata": {},
   "outputs": [],
   "source": [
    "# 查看学历是否需要插补\n",
    "# 先把所有-9（缺失）替换为NA\n",
    "# 插补后记得剔除edu为0的，表示没有数据\n",
    "res6=res5.copy()\n",
    "res6['cfps2010eduy_best_p']=res6.apply(lambda x:x['cfps2010eduy_im_p'] if ((np.isnan(x['cfps2010eduy_best_p']))|(x['cfps2010eduy_best_p']==-1)) else x['cfps2010eduy_best_p'],axis=1)\n",
    "res6['cfps2010eduy_best_f']=res6.apply(lambda x:x['cfps2010eduy_im_f'] if ((np.isnan(x['cfps2010eduy_best_f']))|(x['cfps2010eduy_best_f']==-1)) else x['cfps2010eduy_best_f'],axis=1)\n",
    "res6['cfps2010edu_best_p']=res6.apply(lambda x:x['tb4_a_p'] if ((np.isnan(x['cfps2010edu_best_p']))|(x['cfps2010edu_best_p']==-1)) else x['cfps2010edu_best_p'],axis=1)\n",
    "res6['cfps2010edu_best_f']=res6.apply(lambda x:x['tb4_a_f'] if ((np.isnan(x['cfps2010edu_best_f']))|(x['cfps2010edu_best_f']==-1)) else x['cfps2010edu_best_f'],axis=1)\n",
    "res6['cfps2010eduy_best_p']=res6.apply(lambda x:eduy(x['cfps2010edu_best_p']) if ((np.isnan(x['cfps2010eduy_best_p']))|(x['cfps2010eduy_best_p']==-1)) else x['cfps2010eduy_best_p'],axis=1)\n",
    "res6['cfps2010eduy_best_f']=res6.apply(lambda x:eduy(x['cfps2010edu_best_f']) if ((np.isnan(x['cfps2010eduy_best_f']))|(x['cfps2010eduy_best_f']==-1)) else x['cfps2010eduy_best_f'],axis=1)\n",
    "res6.drop(['cfps2010eduy_im_p','cfps2010eduy_im_f'],axis=1,inplace=True)"
   ]
  },
  {
   "cell_type": "code",
   "execution_count": 23,
   "metadata": {
    "collapsed": true
   },
   "outputs": [
    {
     "data": {
      "image/png": "[encoded data removed]",
      "text/plain": [
       "<Figure size 864x360 with 2 Axes>"
      ]
     },
     "metadata": {
      "needs_background": "light"
     },
     "output_type": "display_data"
    }
   ],
   "source": [
    "# 子代收入分布情况\n",
    "fig_p = plt.figure(figsize=(12,5))\n",
    "ax1_p = fig_p.add_subplot(121)\n",
    "ax2_p=fig_p.add_subplot(122)\n",
    "ax1_p.hist(res5['income_p'],bins=10)\n",
    "ax2_p.boxplot(res5['income_p'])\n",
    "fig_p.tight_layout()\n",
    "plt.show()"
   ]
  },
  {
   "cell_type": "code",
   "execution_count": 24,
   "metadata": {},
   "outputs": [
    {
     "data": {
      "image/png": "[encoded data removed]",
      "text/plain": [
       "<Figure size 864x360 with 2 Axes>"
      ]
     },
     "metadata": {
      "needs_background": "light"
     },
     "output_type": "display_data"
    }
   ],
   "source": [
    "# 父代收入分布情况\n",
    "fig_f = plt.figure(figsize=(12,5))\n",
    "ax1_f = fig_f.add_subplot(121)\n",
    "ax2_f=fig_f.add_subplot(122)\n",
    "ax1_f.hist(res5['income_f'],bins=10)\n",
    "ax2_f.boxplot(res5['income_f'])\n",
    "fig_f.tight_layout()\n",
    "plt.show()"
   ]
  },
  {
   "cell_type": "code",
   "execution_count": 31,
   "metadata": {},
   "outputs": [
    {
     "data": {
      "text/html": [
       "<div>\n",
       "<style scoped>\n",
       "    .dataframe tbody tr th:only-of-type {\n",
       "        vertical-align: middle;\n",
       "    }\n",
       "\n",
       "    .dataframe tbody tr th {\n",
       "        vertical-align: top;\n",
       "    }\n",
       "\n",
       "    .dataframe thead th {\n",
       "        text-align: right;\n",
       "    }\n",
       "</style>\n",
       "<table border=\"1\" class=\"dataframe\">\n",
       "  <thead>\n",
       "    <tr style=\"text-align: right;\">\n",
       "      <th></th>\n",
       "      <th>100%max</th>\n",
       "      <th>99%</th>\n",
       "      <th>95%</th>\n",
       "      <th>90%</th>\n",
       "      <th>75%</th>\n",
       "      <th>50%</th>\n",
       "      <th>25%</th>\n",
       "      <th>10%</th>\n",
       "      <th>5%</th>\n",
       "      <th>1%</th>\n",
       "      <th>0%min</th>\n",
       "    </tr>\n",
       "  </thead>\n",
       "  <tbody>\n",
       "    <tr>\n",
       "      <th>0</th>\n",
       "      <td>200000.0</td>\n",
       "      <td>96640.0</td>\n",
       "      <td>45000.0</td>\n",
       "      <td>33500.0</td>\n",
       "      <td>20000.0</td>\n",
       "      <td>12000.0</td>\n",
       "      <td>6000.0</td>\n",
       "      <td>2500.0</td>\n",
       "      <td>1105.0</td>\n",
       "      <td>221.0</td>\n",
       "      <td>5.0</td>\n",
       "    </tr>\n",
       "    <tr>\n",
       "      <th>1</th>\n",
       "      <td>160000.0</td>\n",
       "      <td>97900.0</td>\n",
       "      <td>40000.0</td>\n",
       "      <td>30000.0</td>\n",
       "      <td>20000.0</td>\n",
       "      <td>10000.0</td>\n",
       "      <td>4500.0</td>\n",
       "      <td>2000.0</td>\n",
       "      <td>1000.0</td>\n",
       "      <td>300.0</td>\n",
       "      <td>10.0</td>\n",
       "    </tr>\n",
       "  </tbody>\n",
       "</table>\n",
       "</div>"
      ],
      "text/plain": [
       "    100%max      99%      95%      90%      75%      50%     25%     10%  \\\n",
       "0  200000.0  96640.0  45000.0  33500.0  20000.0  12000.0  6000.0  2500.0   \n",
       "1  160000.0  97900.0  40000.0  30000.0  20000.0  10000.0  4500.0  2000.0   \n",
       "\n",
       "       5%     1%  0%min  \n",
       "0  1105.0  221.0    5.0  \n",
       "1  1000.0  300.0   10.0  "
      ]
     },
     "execution_count": 31,
     "metadata": {},
     "output_type": "execute_result"
    }
   ],
   "source": [
    "# 计算收入的分位数\n",
    "tmp_inp=np.array(res5['income_p'])\n",
    "tmp_inf=np.array(res5['income_f'])\n",
    "per_p=[np.percentile(tmp_inp,x) for x in [100,99,95,90,75,50,25,10,5,1,0]]\n",
    "per_f=[np.percentile(tmp_inf,x) for x in [100,99,95,90,75,50,25,10,5,1,0]]\n",
    "col_name=['100%max','99%','95%','90%','75%','50%','25%','10%','5%','1%','0%min']\n",
    "pd.DataFrame([per_p,per_f],columns=col_name)"
   ]
  },
  {
   "cell_type": "code",
   "execution_count": 26,
   "metadata": {},
   "outputs": [],
   "source": [
    "# 剔除首尾1%的极端数据，39条\n",
    "# index8=np.where((res5.income_p<=np.percentile(tmp_inp,1))|(res5.income_p>=np.percentile(tmp_inp,99))|\n",
    "#                (res5.income_f<=np.percentile(tmp_inf,1))|(res5.income_f>=np.percentile(tmp_inf,99)))[0]\n",
    "# res6=res5.drop(index8)# 剩2222\n",
    "# res6.reset_index(drop=True,inplace=True)"
   ]
  },
  {
   "cell_type": "code",
   "execution_count": 32,
   "metadata": {},
   "outputs": [
    {
     "data": {
      "text/plain": [
       "1522"
      ]
     },
     "execution_count": 32,
     "metadata": {},
     "output_type": "execute_result"
    }
   ],
   "source": [
    "len(res6)"
   ]
  },
  {
   "cell_type": "code",
   "execution_count": 108,
   "metadata": {},
   "outputs": [],
   "source": [
    "# 根据其他相关变量剔除样本，包括缺失、不适用等\n",
    "res7=res6.dropna(subset=['provcd_p','provcd_f','urban_p','urban_f','qa2_p','qa2_f',\n",
    "                         'cfps2010edu_best_p','cfps2010edu_best_f','gender_p','gender_f','qp3_p','qp3_f',\n",
    "                        'qa7_s_1_p','qa7_s_1_f','cfps2010eduy_best_p','cfps2010eduy_best_f']).reset_index(drop=True)\n",
    "index9=np.where((res7.urban_p==-9)|(res7.urban_f==-9)|(res7.provcd_p==-9)|(res7.provcd_f==-9)|\n",
    "            (res7.qa2_p.isin([-1,-2,5,79]))|(res7.qa2_f.isin([-1,-2,5,79]))|(res7.gender_p==-8)|(res7.gender_f==-8)|\n",
    "            (res7.cfps2010edu_best_p==-1)|(res7.cfps2010edu_best_f==-1)|\n",
    "            (res7.cfps2010eduy_best_p==-1)|(res7.cfps2010eduy_best_f==-1)|\n",
    "            (res7.qa7_s_1_p.isin([-1,-2]))|(res7.qa7_s_1_f.isin([-1,-2]))|\n",
    "            (res7.qp3_p.isin([-1,-8]))|(res7.qp3_f.isin([-1,-8])))[0]\n",
    "res7.drop(index9,inplace=True)\n",
    "res7.reset_index(drop=True,inplace=True)# 剩1519\n",
    "res7['year']=2010"
   ]
  },
  {
   "cell_type": "code",
   "execution_count": 109,
   "metadata": {},
   "outputs": [
    {
     "data": {
      "text/plain": [
       "1519"
      ]
     },
     "execution_count": 109,
     "metadata": {},
     "output_type": "execute_result"
    }
   ],
   "source": [
    "len(res7)"
   ]
  },
  {
   "cell_type": "code",
   "execution_count": 110,
   "metadata": {},
   "outputs": [],
   "source": [
    "# 处理政治身份，党员为1，其余为0\n",
    "res7['qa7_s_1_p']=res7.apply(lambda x:1 if x['qa7_s_1_p']==1 else 0,axis=1)\n",
    "res7['qa7_s_1_f']=res7.apply(lambda x:1 if x['qa7_s_1_f']==1 else 0,axis=1)"
   ]
  },
  {
   "cell_type": "code",
   "execution_count": 59,
   "metadata": {},
   "outputs": [
    {
     "data": {
      "text/plain": [
       "provcd_p\n",
       "11.0     12\n",
       "12.0     18\n",
       "13.0     97\n",
       "14.0     79\n",
       "21.0    113\n",
       "22.0     24\n",
       "23.0     45\n",
       "31.0    180\n",
       "32.0     35\n",
       "33.0     26\n",
       "34.0     12\n",
       "35.0     21\n",
       "36.0     21\n",
       "37.0     48\n",
       "41.0    149\n",
       "42.0     25\n",
       "43.0     32\n",
       "44.0    154\n",
       "45.0     35\n",
       "50.0     10\n",
       "51.0    112\n",
       "52.0     40\n",
       "53.0     53\n",
       "61.0     40\n",
       "62.0    138\n",
       "Name: pid_p, dtype: int64"
      ]
     },
     "execution_count": 59,
     "metadata": {},
     "output_type": "execute_result"
    }
   ],
   "source": [
    "res7.groupby('provcd_p')['pid_p'].size()"
   ]
  },
  {
   "cell_type": "code",
   "execution_count": 111,
   "metadata": {},
   "outputs": [],
   "source": [
    "# 计算收入阶层\n",
    "def per_num(x,tmp):\n",
    "    '''\n",
    "    x:income\n",
    "    tmp:array(income)\n",
    "    '''\n",
    "    if x<=np.percentile(tmp,20):\n",
    "        return 1\n",
    "    elif np.percentile(tmp,20)<x<=np.percentile(tmp,40):\n",
    "        return 2\n",
    "    elif np.percentile(tmp,40)<x<=np.percentile(tmp,60):\n",
    "        return 3\n",
    "    elif np.percentile(tmp,60)<x<=np.percentile(tmp,80):\n",
    "        return 4\n",
    "    else:\n",
    "        return 5\n",
    "\n",
    "res7['rank_p']=res7['income_p'].map(lambda x:per_num(x,tmp_inp))\n",
    "res7['rank_f']=res7['income_f'].map(lambda x:per_num(x,tmp_inf))\n",
    "# 收入阶层流动\n",
    "res7['rank_flow']=res7.apply(lambda x:1 if x['rank_p']>x['rank_f'] else (-1 if x['rank_p']<x['rank_f'] else 0),axis=1)"
   ]
  },
  {
   "cell_type": "code",
   "execution_count": 112,
   "metadata": {},
   "outputs": [
    {
     "data": {
      "text/plain": [
       "rank_p\n",
       "1    336\n",
       "2    354\n",
       "3    250\n",
       "4    276\n",
       "5    303\n",
       "Name: pid_p, dtype: int64"
      ]
     },
     "execution_count": 112,
     "metadata": {},
     "output_type": "execute_result"
    }
   ],
   "source": [
    "res7.groupby('rank_p')['pid_p'].size()"
   ]
  },
  {
   "cell_type": "code",
   "execution_count": 43,
   "metadata": {},
   "outputs": [
    {
     "data": {
      "text/plain": [
       "rank_f\n",
       "1    308\n",
       "2    347\n",
       "3    283\n",
       "4    301\n",
       "5    280\n",
       "Name: pid_f, dtype: int64"
      ]
     },
     "execution_count": 43,
     "metadata": {},
     "output_type": "execute_result"
    }
   ],
   "source": [
    "res7.groupby('rank_f')['pid_f'].size()"
   ]
  },
  {
   "cell_type": "code",
   "execution_count": 50,
   "metadata": {},
   "outputs": [
    {
     "data": {
      "text/plain": [
       "['pid_p',\n",
       " 'provcd_p',\n",
       " 'urban_p',\n",
       " 'age_p',\n",
       " 'gender_p',\n",
       " 'party_p',\n",
       " 'hukou_p',\n",
       " 'school_p',\n",
       " 'employ_p',\n",
       " 'heal_p',\n",
       " 'income_p',\n",
       " 'edu_p',\n",
       " 'eduy_p',\n",
       " 'pid_f',\n",
       " 'provcd_f',\n",
       " 'urban_f',\n",
       " 'age_f',\n",
       " 'gender_f',\n",
       " 'party_f',\n",
       " 'hukou_f',\n",
       " 'school_f',\n",
       " 'employ_f',\n",
       " 'heal_f',\n",
       " 'income_f',\n",
       " 'edu_f',\n",
       " 'eduy_f',\n",
       " 'age_dif',\n",
       " 'year',\n",
       " 'rank_p',\n",
       " 'rank_f',\n",
       " 'rank_flow']"
      ]
     },
     "execution_count": 50,
     "metadata": {},
     "output_type": "execute_result"
    }
   ],
   "source": [
    "res7.columns.values.tolist()"
   ]
  },
  {
   "cell_type": "code",
   "execution_count": 113,
   "metadata": {},
   "outputs": [],
   "source": [
    "res7.rename(columns={'qa1age_p':'age_p','qa1age_f':'age_f','qa2_p':'hukou_p','qa2_f':'hukou_f',\n",
    "                    'cfps2010edu_best_p':'edu_p','cfps2010edu_best_f':'edu_f',\n",
    "                     'cfps2010eduy_best_p':'eduy_p','cfps2010eduy_best_f':'eduy_f',\n",
    "                     'qd3_p':'school_p','qd3_f':'school_f','qg3_p':'employ_p','qg3_f':'employ_f',\n",
    "                    'qp3_p':'heal_p','qp3_f':'heal_f','qa7_s_1_p':'party_p','qa7_s_1_f':'party_f'},inplace=True)"
   ]
  },
  {
   "cell_type": "code",
   "execution_count": 114,
   "metadata": {},
   "outputs": [],
   "source": [
    "res7.drop(['income_10_p','income_10_f','tb4_a_p','tb4_a_f'],axis=1,inplace=True)"
   ]
  },
  {
   "cell_type": "code",
   "execution_count": 115,
   "metadata": {},
   "outputs": [],
   "source": [
    "# 户口\n",
    "res7[['hukou_p','hukou_f']]=res7[['hukou_p','hukou_f']].apply(lambda x:x.replace(3,0))\n",
    "res7['rank_dif']=res7['rank_p']-res7['rank_f']"
   ]
  },
  {
   "cell_type": "code",
   "execution_count": 116,
   "metadata": {},
   "outputs": [],
   "source": [
    "p_city_pro=pd.read_csv('data result/p_city_pro.csv',encoding='GBK',index_col=0).reset_index()\n",
    "expend_farm_pro=pd.read_csv('data result/expend_farm_pro.csv',encoding='GBK',index_col=0).reset_index()\n",
    "expend_edu_pro=pd.read_csv('data result/expend_edu_pro.csv',encoding='GBK',index_col=0).reset_index()\n",
    "exp_GDP_pro=pd.read_csv('data result/exp_GDP_pro.csv',encoding='GBK',index_col=0).reset_index()\n",
    "province=pd.read_csv('data result/province.csv',encoding='GBK')\n",
    "birth_rate=pd.read_csv('data result/birth_rate.csv',encoding='GBK',index_col=0).reset_index()\n",
    "cpi=pd.read_csv('data result/各省CPI_2010基期.csv',encoding='GBK',index_col=0).reset_index()\n",
    "pGDP=pd.read_csv('data result/各省人均GDP.csv',encoding='GBK',index_col=0).reset_index()"
   ]
  },
  {
   "cell_type": "code",
   "execution_count": 117,
   "metadata": {},
   "outputs": [],
   "source": [
    "p_city_pro=province.merge(p_city_pro,left_on='Label',right_on='index').drop(['Label','index'],axis=1)\n",
    "expend_edu_pro=province.merge(expend_edu_pro,left_on='Label',right_on='index').drop(['Label','index'],axis=1)\n",
    "expend_farm_pro=province.merge(expend_farm_pro,left_on='Label',right_on='index').drop(['Label','index'],axis=1)\n",
    "exp_GDP_pro=province.merge(exp_GDP_pro,left_on='Label',right_on='index').drop(['Label','index'],axis=1)\n",
    "birth_rate=province.merge(birth_rate,left_on='Label',right_on='index').drop(['Label','index'],axis=1)\n",
    "cpi=province.merge(cpi,left_on='Label',right_on='index').drop(['Label','index'],axis=1)\n",
    "pGDP=province.merge(pGDP,left_on='Label',right_on='index').drop(['Label','index'],axis=1)"
   ]
  },
  {
   "cell_type": "code",
   "execution_count": 118,
   "metadata": {},
   "outputs": [],
   "source": [
    "# 将人均GDP调整到2010年的不变价格\n",
    "col=['2010','2011','2012','2013','2014','2015','2016']\n",
    "for i in col:\n",
    "    pGDP[i]=pGDP[i]/cpi[i]"
   ]
  },
  {
   "cell_type": "code",
   "execution_count": 119,
   "metadata": {},
   "outputs": [],
   "source": [
    "res7=res7.merge(p_city_pro[['No','2010']],left_on='provcd_p',right_on='No').rename(columns={'2010':'p_city_pro'}).drop('No',axis=1)\n",
    "res7=res7.merge(expend_farm_pro[['No','2010']],left_on='provcd_p',right_on='No').rename(columns={'2010':'expend_farm_pro'}).drop('No',axis=1)\n",
    "res7=res7.merge(expend_edu_pro[['No','2010']],left_on='provcd_p',right_on='No').rename(columns={'2010':'expend_edu_pro'}).drop('No',axis=1)\n",
    "res7=res7.merge(exp_GDP_pro[['No','2010']],left_on='provcd_p',right_on='No').rename(columns={'2010':'exp_GDP_pro'}).drop('No',axis=1)\n",
    "res7=res7.merge(birth_rate[['No','2010']],left_on='provcd_p',right_on='No').rename(columns={'2010':'birth_rate'}).drop('No',axis=1)\n",
    "res7=res7.merge(pGDP[['No','2010']],left_on='provcd_p',right_on='No').rename(columns={'2010':'pGDP'}).drop('No',axis=1)\n",
    "res7=res7.merge(cpi[['No','2010']],left_on='provcd_p',right_on='No').rename(columns={'2010':'cpi'}).drop('No',axis=1)"
   ]
  },
  {
   "cell_type": "code",
   "execution_count": 120,
   "metadata": {},
   "outputs": [],
   "source": [
    "# 注意2010为基期，不用调整，CPI=1\n",
    "res7[['income_p','income_f']]=res7.apply(lambda x:x[['income_p','income_f']]/x['cpi'],axis=1)"
   ]
  },
  {
   "cell_type": "code",
   "execution_count": 121,
   "metadata": {},
   "outputs": [],
   "source": [
    "res7.to_csv('data result/model2010.csv',index=False)"
   ]
  }
 ],
 "metadata": {
  "kernelspec": {
   "display_name": "Python 3",
   "language": "python",
   "name": "python3"
  },
  "language_info": {
   "codemirror_mode": {
    "name": "ipython",
    "version": 3
   },
   "file_extension": ".py",
   "mimetype": "text/x-python",
   "name": "python",
   "nbconvert_exporter": "python",
   "pygments_lexer": "ipython3",
   "version": "3.7.2"
  }
 },
 "nbformat": 4,
 "nbformat_minor": 2
}
